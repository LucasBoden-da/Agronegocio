{
 "cells": [
  {
   "cell_type": "code",
   "execution_count": 106,
   "id": "6f7bc950-f774-402a-a9b7-6fb0ffa7eef2",
   "metadata": {},
   "outputs": [
    {
     "name": "stdout",
     "output_type": "stream",
     "text": [
      "env: TF_CPP_MIN_LOG_LEVEL=3\n"
     ]
    }
   ],
   "source": [
    "%env TF_CPP_MIN_LOG_LEVEL=3"
   ]
  },
  {
   "cell_type": "code",
   "execution_count": 107,
   "id": "d1c2ce53-ea8b-462a-a985-cbc66f0f813b",
   "metadata": {},
   "outputs": [],
   "source": [
    "# Imports\n",
    "# Importing necessary libraries\n",
    "# Importing necessary libraries\n",
    "import joblib\n",
    "import sklearn\n",
    "import pandas as pd\n",
    "import tensorflow as tf\n",
    "from sklearn.model_selection import train_test_split  # Import for splitting data  # Import for splitting data\n",
    "from sklearn.preprocessing import StandardScaler  # Import for data scaling  # Import for data scaling\n",
    "from tensorflow.keras.models import Sequential  # Import for model creation  # Import for model creation\n",
    "from tensorflow.keras.layers import Dense, Dropout  # Import for adding layers  # Import for adding layers\n",
    "from tensorflow.keras.callbacks import EarlyStopping, ModelCheckpoint  # Callbacks for training  # Callbacks for training\n",
    "import warnings\n",
    "warnings.filterwarnings('ignore')  # Ignoring warnings  # Ignoring warnings"
   ]
  },
  {
   "cell_type": "markdown",
   "id": "cd76a807-f3f8-4c20-b7e2-90478234c6ac",
   "metadata": {},
   "source": [
    "## Loading dataset"
   ]
  },
  {
   "cell_type": "code",
   "execution_count": 108,
   "id": "1cf9db92-ba97-4f7e-b3b9-f9c2830e351a",
   "metadata": {},
   "outputs": [
    {
     "data": {
      "text/html": [
       "<div>\n",
       "<style scoped>\n",
       "    .dataframe tbody tr th:only-of-type {\n",
       "        vertical-align: middle;\n",
       "    }\n",
       "\n",
       "    .dataframe tbody tr th {\n",
       "        vertical-align: top;\n",
       "    }\n",
       "\n",
       "    .dataframe thead th {\n",
       "        text-align: right;\n",
       "    }\n",
       "</style>\n",
       "<table border=\"1\" class=\"dataframe\">\n",
       "  <thead>\n",
       "    <tr style=\"text-align: right;\">\n",
       "      <th></th>\n",
       "      <th>data</th>\n",
       "      <th>indice_vegetacao</th>\n",
       "      <th>capacidade_solo</th>\n",
       "      <th>concentracao_co2</th>\n",
       "      <th>nivel_nutrientes</th>\n",
       "      <th>indice_fertilizantes</th>\n",
       "      <th>profundidade_raiz</th>\n",
       "      <th>radiacao_solar</th>\n",
       "      <th>precipitacao</th>\n",
       "      <th>estagio_crescimento</th>\n",
       "      <th>historico_rendimento</th>\n",
       "      <th>umidade</th>\n",
       "    </tr>\n",
       "  </thead>\n",
       "  <tbody>\n",
       "    <tr>\n",
       "      <th>0</th>\n",
       "      <td>2012-12-01</td>\n",
       "      <td>323</td>\n",
       "      <td>455</td>\n",
       "      <td>3102.61</td>\n",
       "      <td>423.45</td>\n",
       "      <td>844.0</td>\n",
       "      <td>468.0</td>\n",
       "      <td>578.0</td>\n",
       "      <td>28.67</td>\n",
       "      <td>207.70504</td>\n",
       "      <td>117.7</td>\n",
       "      <td>79.261905</td>\n",
       "    </tr>\n",
       "    <tr>\n",
       "      <th>1</th>\n",
       "      <td>2013-01-01</td>\n",
       "      <td>345</td>\n",
       "      <td>546</td>\n",
       "      <td>3100.45</td>\n",
       "      <td>415.85</td>\n",
       "      <td>799.0</td>\n",
       "      <td>485.0</td>\n",
       "      <td>557.0</td>\n",
       "      <td>24.49</td>\n",
       "      <td>228.94287</td>\n",
       "      <td>4.5</td>\n",
       "      <td>82.193548</td>\n",
       "    </tr>\n",
       "    <tr>\n",
       "      <th>2</th>\n",
       "      <td>2013-02-01</td>\n",
       "      <td>362</td>\n",
       "      <td>595</td>\n",
       "      <td>3199.41</td>\n",
       "      <td>410.77</td>\n",
       "      <td>718.0</td>\n",
       "      <td>466.0</td>\n",
       "      <td>552.0</td>\n",
       "      <td>22.06</td>\n",
       "      <td>238.41747</td>\n",
       "      <td>25.1</td>\n",
       "      <td>74.839286</td>\n",
       "    </tr>\n",
       "    <tr>\n",
       "      <th>3</th>\n",
       "      <td>2013-03-01</td>\n",
       "      <td>376</td>\n",
       "      <td>636</td>\n",
       "      <td>3281.67</td>\n",
       "      <td>414.82</td>\n",
       "      <td>614.0</td>\n",
       "      <td>442.0</td>\n",
       "      <td>574.0</td>\n",
       "      <td>21.64</td>\n",
       "      <td>218.47599</td>\n",
       "      <td>53.6</td>\n",
       "      <td>77.935484</td>\n",
       "    </tr>\n",
       "    <tr>\n",
       "      <th>4</th>\n",
       "      <td>2013-04-01</td>\n",
       "      <td>383</td>\n",
       "      <td>738</td>\n",
       "      <td>3261.65</td>\n",
       "      <td>451.04</td>\n",
       "      <td>619.0</td>\n",
       "      <td>429.0</td>\n",
       "      <td>595.0</td>\n",
       "      <td>22.30</td>\n",
       "      <td>226.15010</td>\n",
       "      <td>166.0</td>\n",
       "      <td>80.450000</td>\n",
       "    </tr>\n",
       "  </tbody>\n",
       "</table>\n",
       "</div>"
      ],
      "text/plain": [
       "         data  indice_vegetacao  capacidade_solo  concentracao_co2  \\\n",
       "0  2012-12-01               323              455           3102.61   \n",
       "1  2013-01-01               345              546           3100.45   \n",
       "2  2013-02-01               362              595           3199.41   \n",
       "3  2013-03-01               376              636           3281.67   \n",
       "4  2013-04-01               383              738           3261.65   \n",
       "\n",
       "   nivel_nutrientes  indice_fertilizantes  profundidade_raiz  radiacao_solar  \\\n",
       "0            423.45                 844.0              468.0           578.0   \n",
       "1            415.85                 799.0              485.0           557.0   \n",
       "2            410.77                 718.0              466.0           552.0   \n",
       "3            414.82                 614.0              442.0           574.0   \n",
       "4            451.04                 619.0              429.0           595.0   \n",
       "\n",
       "   precipitacao  estagio_crescimento  historico_rendimento    umidade  \n",
       "0         28.67            207.70504                 117.7  79.261905  \n",
       "1         24.49            228.94287                   4.5  82.193548  \n",
       "2         22.06            238.41747                  25.1  74.839286  \n",
       "3         21.64            218.47599                  53.6  77.935484  \n",
       "4         22.30            226.15010                 166.0  80.450000  "
      ]
     },
     "execution_count": 108,
     "metadata": {},
     "output_type": "execute_result"
    }
   ],
   "source": [
    "df=pd.read_csv('dataset.csv')\n",
    "df.head()"
   ]
  },
  {
   "cell_type": "code",
   "execution_count": 109,
   "id": "d4f5b942-822d-47d8-9a07-d198abb743bc",
   "metadata": {},
   "outputs": [
    {
     "data": {
      "text/plain": [
       "(124, 12)"
      ]
     },
     "execution_count": 109,
     "metadata": {},
     "output_type": "execute_result"
    }
   ],
   "source": [
    "df.shape"
   ]
  },
  {
   "cell_type": "code",
   "execution_count": 110,
   "id": "2f1d65a2-0211-4f48-a2a8-e892c5de2109",
   "metadata": {},
   "outputs": [
    {
     "data": {
      "text/html": [
       "<div>\n",
       "<style scoped>\n",
       "    .dataframe tbody tr th:only-of-type {\n",
       "        vertical-align: middle;\n",
       "    }\n",
       "\n",
       "    .dataframe tbody tr th {\n",
       "        vertical-align: top;\n",
       "    }\n",
       "\n",
       "    .dataframe thead th {\n",
       "        text-align: right;\n",
       "    }\n",
       "</style>\n",
       "<table border=\"1\" class=\"dataframe\">\n",
       "  <thead>\n",
       "    <tr style=\"text-align: right;\">\n",
       "      <th></th>\n",
       "      <th>data</th>\n",
       "      <th>indice_vegetacao</th>\n",
       "      <th>capacidade_solo</th>\n",
       "      <th>concentracao_co2</th>\n",
       "      <th>nivel_nutrientes</th>\n",
       "      <th>indice_fertilizantes</th>\n",
       "      <th>profundidade_raiz</th>\n",
       "      <th>radiacao_solar</th>\n",
       "      <th>precipitacao</th>\n",
       "      <th>estagio_crescimento</th>\n",
       "      <th>historico_rendimento</th>\n",
       "      <th>umidade</th>\n",
       "    </tr>\n",
       "  </thead>\n",
       "  <tbody>\n",
       "    <tr>\n",
       "      <th>119</th>\n",
       "      <td>2022-11-01</td>\n",
       "      <td>362</td>\n",
       "      <td>363</td>\n",
       "      <td>2626.91</td>\n",
       "      <td>1252.78</td>\n",
       "      <td>738.07</td>\n",
       "      <td>427.49</td>\n",
       "      <td>1430.48</td>\n",
       "      <td>60.18</td>\n",
       "      <td>186.68326</td>\n",
       "      <td>38.2</td>\n",
       "      <td>77.950000</td>\n",
       "    </tr>\n",
       "    <tr>\n",
       "      <th>120</th>\n",
       "      <td>2022-12-01</td>\n",
       "      <td>310</td>\n",
       "      <td>322</td>\n",
       "      <td>2736.64</td>\n",
       "      <td>1287.68</td>\n",
       "      <td>749.57</td>\n",
       "      <td>385.09</td>\n",
       "      <td>1472.27</td>\n",
       "      <td>62.25</td>\n",
       "      <td>210.72987</td>\n",
       "      <td>33.7</td>\n",
       "      <td>76.177419</td>\n",
       "    </tr>\n",
       "    <tr>\n",
       "      <th>121</th>\n",
       "      <td>2023-01-01</td>\n",
       "      <td>277</td>\n",
       "      <td>307</td>\n",
       "      <td>2842.81</td>\n",
       "      <td>1289.12</td>\n",
       "      <td>761.60</td>\n",
       "      <td>373.03</td>\n",
       "      <td>1525.43</td>\n",
       "      <td>63.04</td>\n",
       "      <td>244.41912</td>\n",
       "      <td>4.6</td>\n",
       "      <td>74.774194</td>\n",
       "    </tr>\n",
       "    <tr>\n",
       "      <th>122</th>\n",
       "      <td>2023-02-01</td>\n",
       "      <td>323</td>\n",
       "      <td>330</td>\n",
       "      <td>2936.19</td>\n",
       "      <td>1303.59</td>\n",
       "      <td>759.59</td>\n",
       "      <td>390.69</td>\n",
       "      <td>1572.25</td>\n",
       "      <td>71.52</td>\n",
       "      <td>223.31732</td>\n",
       "      <td>6.9</td>\n",
       "      <td>66.910714</td>\n",
       "    </tr>\n",
       "    <tr>\n",
       "      <th>123</th>\n",
       "      <td>2023-03-01</td>\n",
       "      <td>360</td>\n",
       "      <td>339</td>\n",
       "      <td>2847.84</td>\n",
       "      <td>1234.88</td>\n",
       "      <td>771.62</td>\n",
       "      <td>396.87</td>\n",
       "      <td>1302.61</td>\n",
       "      <td>74.80</td>\n",
       "      <td>228.56676</td>\n",
       "      <td>41.5</td>\n",
       "      <td>69.000000</td>\n",
       "    </tr>\n",
       "  </tbody>\n",
       "</table>\n",
       "</div>"
      ],
      "text/plain": [
       "           data  indice_vegetacao  capacidade_solo  concentracao_co2  \\\n",
       "119  2022-11-01               362              363           2626.91   \n",
       "120  2022-12-01               310              322           2736.64   \n",
       "121  2023-01-01               277              307           2842.81   \n",
       "122  2023-02-01               323              330           2936.19   \n",
       "123  2023-03-01               360              339           2847.84   \n",
       "\n",
       "     nivel_nutrientes  indice_fertilizantes  profundidade_raiz  \\\n",
       "119           1252.78                738.07             427.49   \n",
       "120           1287.68                749.57             385.09   \n",
       "121           1289.12                761.60             373.03   \n",
       "122           1303.59                759.59             390.69   \n",
       "123           1234.88                771.62             396.87   \n",
       "\n",
       "     radiacao_solar  precipitacao  estagio_crescimento  historico_rendimento  \\\n",
       "119         1430.48         60.18            186.68326                  38.2   \n",
       "120         1472.27         62.25            210.72987                  33.7   \n",
       "121         1525.43         63.04            244.41912                   4.6   \n",
       "122         1572.25         71.52            223.31732                   6.9   \n",
       "123         1302.61         74.80            228.56676                  41.5   \n",
       "\n",
       "       umidade  \n",
       "119  77.950000  \n",
       "120  76.177419  \n",
       "121  74.774194  \n",
       "122  66.910714  \n",
       "123  69.000000  "
      ]
     },
     "execution_count": 110,
     "metadata": {},
     "output_type": "execute_result"
    }
   ],
   "source": [
    "df.tail()"
   ]
  },
  {
   "cell_type": "markdown",
   "id": "004c7e86-d5d4-4011-a794-f8e39bc68941",
   "metadata": {},
   "source": [
    "## Exploratory Data Analysis - EDA"
   ]
  },
  {
   "cell_type": "code",
   "execution_count": 111,
   "id": "ba8d8a8b-b615-47b7-bc15-92976cdcc29d",
   "metadata": {},
   "outputs": [
    {
     "data": {
      "text/plain": [
       "data                     object\n",
       "indice_vegetacao          int64\n",
       "capacidade_solo           int64\n",
       "concentracao_co2        float64\n",
       "nivel_nutrientes        float64\n",
       "indice_fertilizantes    float64\n",
       "profundidade_raiz       float64\n",
       "radiacao_solar          float64\n",
       "precipitacao            float64\n",
       "estagio_crescimento     float64\n",
       "historico_rendimento    float64\n",
       "umidade                 float64\n",
       "dtype: object"
      ]
     },
     "execution_count": 111,
     "metadata": {},
     "output_type": "execute_result"
    }
   ],
   "source": [
    "# Check the data types of the columns to compare with the dictionary\n",
    "df.dtypes"
   ]
  },
  {
   "cell_type": "code",
   "execution_count": 112,
   "id": "da8eeeae-34ea-4226-ac3a-92c1d40cdbc9",
   "metadata": {},
   "outputs": [
    {
     "data": {
      "text/plain": [
       "Index(['data', 'indice_vegetacao', 'capacidade_solo', 'concentracao_co2',\n",
       "       'nivel_nutrientes', 'indice_fertilizantes', 'profundidade_raiz',\n",
       "       'radiacao_solar', 'precipitacao', 'estagio_crescimento',\n",
       "       'historico_rendimento', 'umidade'],\n",
       "      dtype='object')"
      ]
     },
     "execution_count": 112,
     "metadata": {},
     "output_type": "execute_result"
    }
   ],
   "source": [
    "# Display the dataset columns to check for issues like spaces in the names or other common problems\n",
    "df.columns"
   ]
  },
  {
   "cell_type": "code",
   "execution_count": 113,
   "id": "97669514-aa5f-4422-befb-e0e3d6045886",
   "metadata": {},
   "outputs": [
    {
     "name": "stdout",
     "output_type": "stream",
     "text": [
      "Non-numerical columns: Index(['data'], dtype='object')\n"
     ]
    }
   ],
   "source": [
    "# Non-numerical columns need to be handled\n",
    "non_numerical_columns = df.select_dtypes(include = ['object']).columns\n",
    "print(f'Non-numerical columns: {non_numerical_columns}')"
   ]
  },
  {
   "cell_type": "code",
   "execution_count": 114,
   "id": "336c50f2-2f09-443d-bb8d-044cdc32653e",
   "metadata": {},
   "outputs": [
    {
     "data": {
      "text/plain": [
       "data                    0\n",
       "indice_vegetacao        0\n",
       "capacidade_solo         0\n",
       "concentracao_co2        0\n",
       "nivel_nutrientes        0\n",
       "indice_fertilizantes    0\n",
       "profundidade_raiz       0\n",
       "radiacao_solar          0\n",
       "precipitacao            0\n",
       "estagio_crescimento     0\n",
       "historico_rendimento    0\n",
       "umidade                 0\n",
       "dtype: int64"
      ]
     },
     "execution_count": 114,
     "metadata": {},
     "output_type": "execute_result"
    }
   ],
   "source": [
    "#Check for null values\n",
    "df.isnull().sum()"
   ]
  },
  {
   "cell_type": "markdown",
   "id": "9814927e-0c84-485e-9494-4469c00a33d4",
   "metadata": {},
   "source": [
    "## Data cleaning and transform"
   ]
  },
  {
   "cell_type": "code",
   "execution_count": 115,
   "id": "6466601b-0c4e-4233-9c93-7a97d9a6fe84",
   "metadata": {},
   "outputs": [],
   "source": [
    "# The date in this dataset is being used as an ID. Since I am not performing a time series analysis, I will remove this column\n",
    "df = df.drop(columns = non_numeric_columns)"
   ]
  },
  {
   "cell_type": "markdown",
   "id": "b9eac5db-6932-4898-9059-73e86c165b01",
   "metadata": {},
   "source": [
    "## Data Standardization"
   ]
  },
  {
   "cell_type": "code",
   "execution_count": 116,
   "id": "1640df12-6a9e-4045-9cd7-ec904dd4c162",
   "metadata": {},
   "outputs": [],
   "source": [
    "# Define the target\n",
    "X = df.drop(columns='umidade')\n",
    "y = df['umidade']"
   ]
  },
  {
   "cell_type": "code",
   "execution_count": 117,
   "id": "80fd81cd-57e4-4738-9547-441047d6b8fa",
   "metadata": {},
   "outputs": [],
   "source": [
    "# Split into training and test\n",
    "X_train, X_test, y_train, y_test = train_test_split(X, y, test_size = 0.2, random_state = 42)"
   ]
  },
  {
   "cell_type": "code",
   "execution_count": 118,
   "id": "12ef7f1c-bc89-4f16-bf09-fec5977deca3",
   "metadata": {},
   "outputs": [],
   "source": [
    "# Define the scaler\n",
    "scaler = StandardScaler()"
   ]
  },
  {
   "cell_type": "code",
   "execution_count": 119,
   "id": "76f7957c-df36-40ca-bd26-3a026edd7026",
   "metadata": {},
   "outputs": [],
   "source": [
    "# Standardize the data.\n",
    "X_train_scaled = scaler.fit_transform(X_train)\n",
    "X_test_scaled = scaler.transform(X_test)"
   ]
  },
  {
   "cell_type": "code",
   "execution_count": 120,
   "id": "129eae74-4a10-4751-8c68-0a840744df9c",
   "metadata": {},
   "outputs": [
    {
     "data": {
      "text/plain": [
       "['scaler.joblib']"
      ]
     },
     "execution_count": 120,
     "metadata": {},
     "output_type": "execute_result"
    }
   ],
   "source": [
    "# Save the scaler to disk, as it will be used for new data after deployment\n",
    "joblib.dump(scaler,'scaler.joblib')"
   ]
  },
  {
   "cell_type": "code",
   "execution_count": 121,
   "id": "72858b64-d929-4c30-9b25-65ea46dc8a6c",
   "metadata": {},
   "outputs": [],
   "source": [
    "#Define the model architecture.\n",
    "#I used a typical architecture for regression problems where the goal is to predict a single continuous value based on multiple input features.\n",
    "model = Sequential([Dense(64, activation = 'relu', input_shape = (X_treino.shape[1],)),\n",
    "                         Dropout(0.3),\n",
    "                         Dense(32, activation = 'relu'),\n",
    "                         Dropout(0.3),\n",
    "                         Dense(16, activation = 'relu'),\n",
    "                         Dense(1)])"
   ]
  },
  {
   "cell_type": "code",
   "execution_count": 122,
   "id": "4b138aa7-85e4-46fe-bd5c-b391fad47f0e",
   "metadata": {},
   "outputs": [],
   "source": [
    "# Compiling the model\n",
    "model.compile(optimizer = 'adam', loss = 'mse', metrics = ['mae'])"
   ]
  },
  {
   "cell_type": "code",
   "execution_count": 123,
   "id": "04628d0e-3005-46c8-ba7e-403c488167f6",
   "metadata": {},
   "outputs": [],
   "source": [
    "# The early_stopping callback monitors the validation loss (val_loss) and stops training if it does not improve for 10 consecutive epochs, while restoring the best weights. \n",
    "# The model_checkpoint callback saves the model to 'modelo.keras' when it achieves a better validation performance\n",
    "early_stopping = EarlyStopping(monitor = 'val_loss', patience = 10, restore_best_weights = True)\n",
    "model_checkpoint = ModelCheckpoint('model.keras', save_best_only = True)"
   ]
  },
  {
   "cell_type": "markdown",
   "id": "ba9a8c0f-1583-41dc-986b-663a57f76473",
   "metadata": {},
   "source": [
    "## Model training"
   ]
  },
  {
   "cell_type": "code",
   "execution_count": 124,
   "id": "ebc080d3-8422-4645-a6f4-2505668fa5af",
   "metadata": {},
   "outputs": [
    {
     "data": {
      "text/html": [
       "<pre style=\"white-space:pre;overflow-x:auto;line-height:normal;font-family:Menlo,'DejaVu Sans Mono',consolas,'Courier New',monospace\"><span style=\"font-weight: bold\">Model: \"sequential_3\"</span>\n",
       "</pre>\n"
      ],
      "text/plain": [
       "\u001b[1mModel: \"sequential_3\"\u001b[0m\n"
      ]
     },
     "metadata": {},
     "output_type": "display_data"
    },
    {
     "data": {
      "text/html": [
       "<pre style=\"white-space:pre;overflow-x:auto;line-height:normal;font-family:Menlo,'DejaVu Sans Mono',consolas,'Courier New',monospace\">┏━━━━━━━━━━━━━━━━━━━━━━━━━━━━━━━━━━━━━━┳━━━━━━━━━━━━━━━━━━━━━━━━━━━━━┳━━━━━━━━━━━━━━━━━┓\n",
       "┃<span style=\"font-weight: bold\"> Layer (type)                         </span>┃<span style=\"font-weight: bold\"> Output Shape                </span>┃<span style=\"font-weight: bold\">         Param # </span>┃\n",
       "┡━━━━━━━━━━━━━━━━━━━━━━━━━━━━━━━━━━━━━━╇━━━━━━━━━━━━━━━━━━━━━━━━━━━━━╇━━━━━━━━━━━━━━━━━┩\n",
       "│ dense_12 (<span style=\"color: #0087ff; text-decoration-color: #0087ff\">Dense</span>)                     │ (<span style=\"color: #00d7ff; text-decoration-color: #00d7ff\">None</span>, <span style=\"color: #00af00; text-decoration-color: #00af00\">64</span>)                  │             <span style=\"color: #00af00; text-decoration-color: #00af00\">704</span> │\n",
       "├──────────────────────────────────────┼─────────────────────────────┼─────────────────┤\n",
       "│ dropout_6 (<span style=\"color: #0087ff; text-decoration-color: #0087ff\">Dropout</span>)                  │ (<span style=\"color: #00d7ff; text-decoration-color: #00d7ff\">None</span>, <span style=\"color: #00af00; text-decoration-color: #00af00\">64</span>)                  │               <span style=\"color: #00af00; text-decoration-color: #00af00\">0</span> │\n",
       "├──────────────────────────────────────┼─────────────────────────────┼─────────────────┤\n",
       "│ dense_13 (<span style=\"color: #0087ff; text-decoration-color: #0087ff\">Dense</span>)                     │ (<span style=\"color: #00d7ff; text-decoration-color: #00d7ff\">None</span>, <span style=\"color: #00af00; text-decoration-color: #00af00\">32</span>)                  │           <span style=\"color: #00af00; text-decoration-color: #00af00\">2,080</span> │\n",
       "├──────────────────────────────────────┼─────────────────────────────┼─────────────────┤\n",
       "│ dropout_7 (<span style=\"color: #0087ff; text-decoration-color: #0087ff\">Dropout</span>)                  │ (<span style=\"color: #00d7ff; text-decoration-color: #00d7ff\">None</span>, <span style=\"color: #00af00; text-decoration-color: #00af00\">32</span>)                  │               <span style=\"color: #00af00; text-decoration-color: #00af00\">0</span> │\n",
       "├──────────────────────────────────────┼─────────────────────────────┼─────────────────┤\n",
       "│ dense_14 (<span style=\"color: #0087ff; text-decoration-color: #0087ff\">Dense</span>)                     │ (<span style=\"color: #00d7ff; text-decoration-color: #00d7ff\">None</span>, <span style=\"color: #00af00; text-decoration-color: #00af00\">16</span>)                  │             <span style=\"color: #00af00; text-decoration-color: #00af00\">528</span> │\n",
       "├──────────────────────────────────────┼─────────────────────────────┼─────────────────┤\n",
       "│ dense_15 (<span style=\"color: #0087ff; text-decoration-color: #0087ff\">Dense</span>)                     │ (<span style=\"color: #00d7ff; text-decoration-color: #00d7ff\">None</span>, <span style=\"color: #00af00; text-decoration-color: #00af00\">1</span>)                   │              <span style=\"color: #00af00; text-decoration-color: #00af00\">17</span> │\n",
       "└──────────────────────────────────────┴─────────────────────────────┴─────────────────┘\n",
       "</pre>\n"
      ],
      "text/plain": [
       "┏━━━━━━━━━━━━━━━━━━━━━━━━━━━━━━━━━━━━━━┳━━━━━━━━━━━━━━━━━━━━━━━━━━━━━┳━━━━━━━━━━━━━━━━━┓\n",
       "┃\u001b[1m \u001b[0m\u001b[1mLayer (type)                        \u001b[0m\u001b[1m \u001b[0m┃\u001b[1m \u001b[0m\u001b[1mOutput Shape               \u001b[0m\u001b[1m \u001b[0m┃\u001b[1m \u001b[0m\u001b[1m        Param #\u001b[0m\u001b[1m \u001b[0m┃\n",
       "┡━━━━━━━━━━━━━━━━━━━━━━━━━━━━━━━━━━━━━━╇━━━━━━━━━━━━━━━━━━━━━━━━━━━━━╇━━━━━━━━━━━━━━━━━┩\n",
       "│ dense_12 (\u001b[38;5;33mDense\u001b[0m)                     │ (\u001b[38;5;45mNone\u001b[0m, \u001b[38;5;34m64\u001b[0m)                  │             \u001b[38;5;34m704\u001b[0m │\n",
       "├──────────────────────────────────────┼─────────────────────────────┼─────────────────┤\n",
       "│ dropout_6 (\u001b[38;5;33mDropout\u001b[0m)                  │ (\u001b[38;5;45mNone\u001b[0m, \u001b[38;5;34m64\u001b[0m)                  │               \u001b[38;5;34m0\u001b[0m │\n",
       "├──────────────────────────────────────┼─────────────────────────────┼─────────────────┤\n",
       "│ dense_13 (\u001b[38;5;33mDense\u001b[0m)                     │ (\u001b[38;5;45mNone\u001b[0m, \u001b[38;5;34m32\u001b[0m)                  │           \u001b[38;5;34m2,080\u001b[0m │\n",
       "├──────────────────────────────────────┼─────────────────────────────┼─────────────────┤\n",
       "│ dropout_7 (\u001b[38;5;33mDropout\u001b[0m)                  │ (\u001b[38;5;45mNone\u001b[0m, \u001b[38;5;34m32\u001b[0m)                  │               \u001b[38;5;34m0\u001b[0m │\n",
       "├──────────────────────────────────────┼─────────────────────────────┼─────────────────┤\n",
       "│ dense_14 (\u001b[38;5;33mDense\u001b[0m)                     │ (\u001b[38;5;45mNone\u001b[0m, \u001b[38;5;34m16\u001b[0m)                  │             \u001b[38;5;34m528\u001b[0m │\n",
       "├──────────────────────────────────────┼─────────────────────────────┼─────────────────┤\n",
       "│ dense_15 (\u001b[38;5;33mDense\u001b[0m)                     │ (\u001b[38;5;45mNone\u001b[0m, \u001b[38;5;34m1\u001b[0m)                   │              \u001b[38;5;34m17\u001b[0m │\n",
       "└──────────────────────────────────────┴─────────────────────────────┴─────────────────┘\n"
      ]
     },
     "metadata": {},
     "output_type": "display_data"
    },
    {
     "data": {
      "text/html": [
       "<pre style=\"white-space:pre;overflow-x:auto;line-height:normal;font-family:Menlo,'DejaVu Sans Mono',consolas,'Courier New',monospace\"><span style=\"font-weight: bold\"> Total params: </span><span style=\"color: #00af00; text-decoration-color: #00af00\">3,329</span> (13.00 KB)\n",
       "</pre>\n"
      ],
      "text/plain": [
       "\u001b[1m Total params: \u001b[0m\u001b[38;5;34m3,329\u001b[0m (13.00 KB)\n"
      ]
     },
     "metadata": {},
     "output_type": "display_data"
    },
    {
     "data": {
      "text/html": [
       "<pre style=\"white-space:pre;overflow-x:auto;line-height:normal;font-family:Menlo,'DejaVu Sans Mono',consolas,'Courier New',monospace\"><span style=\"font-weight: bold\"> Trainable params: </span><span style=\"color: #00af00; text-decoration-color: #00af00\">3,329</span> (13.00 KB)\n",
       "</pre>\n"
      ],
      "text/plain": [
       "\u001b[1m Trainable params: \u001b[0m\u001b[38;5;34m3,329\u001b[0m (13.00 KB)\n"
      ]
     },
     "metadata": {},
     "output_type": "display_data"
    },
    {
     "data": {
      "text/html": [
       "<pre style=\"white-space:pre;overflow-x:auto;line-height:normal;font-family:Menlo,'DejaVu Sans Mono',consolas,'Courier New',monospace\"><span style=\"font-weight: bold\"> Non-trainable params: </span><span style=\"color: #00af00; text-decoration-color: #00af00\">0</span> (0.00 B)\n",
       "</pre>\n"
      ],
      "text/plain": [
       "\u001b[1m Non-trainable params: \u001b[0m\u001b[38;5;34m0\u001b[0m (0.00 B)\n"
      ]
     },
     "metadata": {},
     "output_type": "display_data"
    }
   ],
   "source": [
    "modelo.summary()"
   ]
  },
  {
   "cell_type": "code",
   "execution_count": 125,
   "id": "80836ef2-5b50-422c-8953-1743233ba37f",
   "metadata": {},
   "outputs": [
    {
     "name": "stdout",
     "output_type": "stream",
     "text": [
      "Epoch 1/100\n",
      "\u001b[1m3/3\u001b[0m \u001b[32m━━━━━━━━━━━━━━━━━━━━\u001b[0m\u001b[37m\u001b[0m \u001b[1m1s\u001b[0m 86ms/step - loss: 5236.8613 - mae: 72.2318 - val_loss: 5207.2036 - val_mae: 72.0575\n",
      "Epoch 2/100\n",
      "\u001b[1m3/3\u001b[0m \u001b[32m━━━━━━━━━━━━━━━━━━━━\u001b[0m\u001b[37m\u001b[0m \u001b[1m0s\u001b[0m 31ms/step - loss: 5199.6670 - mae: 71.9695 - val_loss: 5190.2344 - val_mae: 71.9405\n",
      "Epoch 3/100\n",
      "\u001b[1m3/3\u001b[0m \u001b[32m━━━━━━━━━━━━━━━━━━━━\u001b[0m\u001b[37m\u001b[0m \u001b[1m0s\u001b[0m 35ms/step - loss: 5200.2153 - mae: 71.9681 - val_loss: 5172.9248 - val_mae: 71.8208\n",
      "Epoch 4/100\n",
      "\u001b[1m3/3\u001b[0m \u001b[32m━━━━━━━━━━━━━━━━━━━━\u001b[0m\u001b[37m\u001b[0m \u001b[1m0s\u001b[0m 30ms/step - loss: 5162.4868 - mae: 71.7037 - val_loss: 5154.5278 - val_mae: 71.6933\n",
      "Epoch 5/100\n",
      "\u001b[1m3/3\u001b[0m \u001b[32m━━━━━━━━━━━━━━━━━━━━\u001b[0m\u001b[37m\u001b[0m \u001b[1m0s\u001b[0m 29ms/step - loss: 5200.8691 - mae: 71.9785 - val_loss: 5134.8135 - val_mae: 71.5564\n",
      "Epoch 6/100\n",
      "\u001b[1m3/3\u001b[0m \u001b[32m━━━━━━━━━━━━━━━━━━━━\u001b[0m\u001b[37m\u001b[0m \u001b[1m0s\u001b[0m 31ms/step - loss: 5166.1260 - mae: 71.7447 - val_loss: 5113.4941 - val_mae: 71.4080\n",
      "Epoch 7/100\n",
      "\u001b[1m3/3\u001b[0m \u001b[32m━━━━━━━━━━━━━━━━━━━━\u001b[0m\u001b[37m\u001b[0m \u001b[1m0s\u001b[0m 36ms/step - loss: 5136.8130 - mae: 71.5414 - val_loss: 5090.1343 - val_mae: 71.2444\n",
      "Epoch 8/100\n",
      "\u001b[1m3/3\u001b[0m \u001b[32m━━━━━━━━━━━━━━━━━━━━\u001b[0m\u001b[37m\u001b[0m \u001b[1m0s\u001b[0m 30ms/step - loss: 5070.5352 - mae: 71.0721 - val_loss: 5063.9595 - val_mae: 71.0606\n",
      "Epoch 9/100\n",
      "\u001b[1m3/3\u001b[0m \u001b[32m━━━━━━━━━━━━━━━━━━━━\u001b[0m\u001b[37m\u001b[0m \u001b[1m0s\u001b[0m 33ms/step - loss: 5044.3862 - mae: 70.8872 - val_loss: 5034.5811 - val_mae: 70.8537\n",
      "Epoch 10/100\n",
      "\u001b[1m3/3\u001b[0m \u001b[32m━━━━━━━━━━━━━━━━━━━━\u001b[0m\u001b[37m\u001b[0m \u001b[1m0s\u001b[0m 33ms/step - loss: 5050.2544 - mae: 70.9234 - val_loss: 5001.8682 - val_mae: 70.6224\n",
      "Epoch 11/100\n",
      "\u001b[1m3/3\u001b[0m \u001b[32m━━━━━━━━━━━━━━━━━━━━\u001b[0m\u001b[37m\u001b[0m \u001b[1m0s\u001b[0m 33ms/step - loss: 4991.0254 - mae: 70.5096 - val_loss: 4964.2241 - val_mae: 70.3553\n",
      "Epoch 12/100\n",
      "\u001b[1m3/3\u001b[0m \u001b[32m━━━━━━━━━━━━━━━━━━━━\u001b[0m\u001b[37m\u001b[0m \u001b[1m0s\u001b[0m 31ms/step - loss: 4965.7871 - mae: 70.3252 - val_loss: 4921.5532 - val_mae: 70.0514\n",
      "Epoch 13/100\n",
      "\u001b[1m3/3\u001b[0m \u001b[32m━━━━━━━━━━━━━━━━━━━━\u001b[0m\u001b[37m\u001b[0m \u001b[1m0s\u001b[0m 37ms/step - loss: 4925.4487 - mae: 70.0455 - val_loss: 4873.3516 - val_mae: 69.7067\n",
      "Epoch 14/100\n",
      "\u001b[1m3/3\u001b[0m \u001b[32m━━━━━━━━━━━━━━━━━━━━\u001b[0m\u001b[37m\u001b[0m \u001b[1m0s\u001b[0m 30ms/step - loss: 4863.4316 - mae: 69.6124 - val_loss: 4819.7109 - val_mae: 69.3210\n",
      "Epoch 15/100\n",
      "\u001b[1m3/3\u001b[0m \u001b[32m━━━━━━━━━━━━━━━━━━━━\u001b[0m\u001b[37m\u001b[0m \u001b[1m0s\u001b[0m 31ms/step - loss: 4797.9326 - mae: 69.1231 - val_loss: 4759.0894 - val_mae: 68.8821\n",
      "Epoch 16/100\n",
      "\u001b[1m3/3\u001b[0m \u001b[32m━━━━━━━━━━━━━━━━━━━━\u001b[0m\u001b[37m\u001b[0m \u001b[1m0s\u001b[0m 34ms/step - loss: 4729.1328 - mae: 68.6168 - val_loss: 4690.2354 - val_mae: 68.3800\n",
      "Epoch 17/100\n",
      "\u001b[1m3/3\u001b[0m \u001b[32m━━━━━━━━━━━━━━━━━━━━\u001b[0m\u001b[37m\u001b[0m \u001b[1m0s\u001b[0m 31ms/step - loss: 4680.5293 - mae: 68.2590 - val_loss: 4613.3662 - val_mae: 67.8145\n",
      "Epoch 18/100\n",
      "\u001b[1m3/3\u001b[0m \u001b[32m━━━━━━━━━━━━━━━━━━━━\u001b[0m\u001b[37m\u001b[0m \u001b[1m0s\u001b[0m 31ms/step - loss: 4589.0576 - mae: 67.5875 - val_loss: 4526.2441 - val_mae: 67.1671\n",
      "Epoch 19/100\n",
      "\u001b[1m3/3\u001b[0m \u001b[32m━━━━━━━━━━━━━━━━━━━━\u001b[0m\u001b[37m\u001b[0m \u001b[1m0s\u001b[0m 33ms/step - loss: 4534.6377 - mae: 67.1905 - val_loss: 4429.9390 - val_mae: 66.4434\n",
      "Epoch 20/100\n",
      "\u001b[1m3/3\u001b[0m \u001b[32m━━━━━━━━━━━━━━━━━━━━\u001b[0m\u001b[37m\u001b[0m \u001b[1m0s\u001b[0m 30ms/step - loss: 4384.2954 - mae: 66.0573 - val_loss: 4322.0537 - val_mae: 65.6220\n",
      "Epoch 21/100\n",
      "\u001b[1m3/3\u001b[0m \u001b[32m━━━━━━━━━━━━━━━━━━━━\u001b[0m\u001b[37m\u001b[0m \u001b[1m0s\u001b[0m 31ms/step - loss: 4271.8525 - mae: 65.1722 - val_loss: 4202.9165 - val_mae: 64.7014\n",
      "Epoch 22/100\n",
      "\u001b[1m3/3\u001b[0m \u001b[32m━━━━━━━━━━━━━━━━━━━━\u001b[0m\u001b[37m\u001b[0m \u001b[1m0s\u001b[0m 35ms/step - loss: 4176.6929 - mae: 64.3940 - val_loss: 4072.3250 - val_mae: 63.6756\n",
      "Epoch 23/100\n",
      "\u001b[1m3/3\u001b[0m \u001b[32m━━━━━━━━━━━━━━━━━━━━\u001b[0m\u001b[37m\u001b[0m \u001b[1m0s\u001b[0m 32ms/step - loss: 4084.0359 - mae: 63.6990 - val_loss: 3929.4844 - val_mae: 62.5317\n",
      "Epoch 24/100\n",
      "\u001b[1m3/3\u001b[0m \u001b[32m━━━━━━━━━━━━━━━━━━━━\u001b[0m\u001b[37m\u001b[0m \u001b[1m0s\u001b[0m 31ms/step - loss: 3920.3359 - mae: 62.3761 - val_loss: 3773.5483 - val_mae: 61.2553\n",
      "Epoch 25/100\n",
      "\u001b[1m3/3\u001b[0m \u001b[32m━━━━━━━━━━━━━━━━━━━━\u001b[0m\u001b[37m\u001b[0m \u001b[1m0s\u001b[0m 33ms/step - loss: 3712.8145 - mae: 60.5892 - val_loss: 3603.2266 - val_mae: 59.8272\n",
      "Epoch 26/100\n",
      "\u001b[1m3/3\u001b[0m \u001b[32m━━━━━━━━━━━━━━━━━━━━\u001b[0m\u001b[37m\u001b[0m \u001b[1m0s\u001b[0m 30ms/step - loss: 3507.4817 - mae: 58.8841 - val_loss: 3418.5181 - val_mae: 58.2355\n",
      "Epoch 27/100\n",
      "\u001b[1m3/3\u001b[0m \u001b[32m━━━━━━━━━━━━━━━━━━━━\u001b[0m\u001b[37m\u001b[0m \u001b[1m0s\u001b[0m 31ms/step - loss: 3386.6118 - mae: 57.8917 - val_loss: 3220.2405 - val_mae: 56.4713\n",
      "Epoch 28/100\n",
      "\u001b[1m3/3\u001b[0m \u001b[32m━━━━━━━━━━━━━━━━━━━━\u001b[0m\u001b[37m\u001b[0m \u001b[1m0s\u001b[0m 33ms/step - loss: 3201.0911 - mae: 56.1520 - val_loss: 3009.8948 - val_mae: 54.5312\n",
      "Epoch 29/100\n",
      "\u001b[1m3/3\u001b[0m \u001b[32m━━━━━━━━━━━━━━━━━━━━\u001b[0m\u001b[37m\u001b[0m \u001b[1m0s\u001b[0m 31ms/step - loss: 2978.0264 - mae: 54.1113 - val_loss: 2788.0461 - val_mae: 52.4006\n",
      "Epoch 30/100\n",
      "\u001b[1m3/3\u001b[0m \u001b[32m━━━━━━━━━━━━━━━━━━━━\u001b[0m\u001b[37m\u001b[0m \u001b[1m0s\u001b[0m 30ms/step - loss: 2754.4453 - mae: 51.8311 - val_loss: 2556.4373 - val_mae: 50.0672\n",
      "Epoch 31/100\n",
      "\u001b[1m3/3\u001b[0m \u001b[32m━━━━━━━━━━━━━━━━━━━━\u001b[0m\u001b[37m\u001b[0m \u001b[1m0s\u001b[0m 32ms/step - loss: 2419.1785 - mae: 48.1502 - val_loss: 2319.4888 - val_mae: 47.5487\n",
      "Epoch 32/100\n",
      "\u001b[1m3/3\u001b[0m \u001b[32m━━━━━━━━━━━━━━━━━━━━\u001b[0m\u001b[37m\u001b[0m \u001b[1m0s\u001b[0m 32ms/step - loss: 2405.1399 - mae: 48.0322 - val_loss: 2081.3772 - val_mae: 44.8561\n",
      "Epoch 33/100\n",
      "\u001b[1m3/3\u001b[0m \u001b[32m━━━━━━━━━━━━━━━━━━━━\u001b[0m\u001b[37m\u001b[0m \u001b[1m0s\u001b[0m 32ms/step - loss: 2117.6846 - mae: 44.4999 - val_loss: 1844.7737 - val_mae: 41.9827\n",
      "Epoch 34/100\n",
      "\u001b[1m3/3\u001b[0m \u001b[32m━━━━━━━━━━━━━━━━━━━━\u001b[0m\u001b[37m\u001b[0m \u001b[1m0s\u001b[0m 31ms/step - loss: 1862.0970 - mae: 41.4951 - val_loss: 1613.3516 - val_mae: 38.9352\n",
      "Epoch 35/100\n",
      "\u001b[1m3/3\u001b[0m \u001b[32m━━━━━━━━━━━━━━━━━━━━\u001b[0m\u001b[37m\u001b[0m \u001b[1m0s\u001b[0m 31ms/step - loss: 1462.9080 - mae: 36.8683 - val_loss: 1389.3969 - val_mae: 35.7149\n",
      "Epoch 36/100\n",
      "\u001b[1m3/3\u001b[0m \u001b[32m━━━━━━━━━━━━━━━━━━━━\u001b[0m\u001b[37m\u001b[0m \u001b[1m0s\u001b[0m 31ms/step - loss: 1470.8839 - mae: 36.6916 - val_loss: 1176.6321 - val_mae: 32.3287\n",
      "Epoch 37/100\n",
      "\u001b[1m3/3\u001b[0m \u001b[32m━━━━━━━━━━━━━━━━━━━━\u001b[0m\u001b[37m\u001b[0m \u001b[1m0s\u001b[0m 32ms/step - loss: 1151.8247 - mae: 30.7453 - val_loss: 985.0405 - val_mae: 29.1165\n",
      "Epoch 38/100\n",
      "\u001b[1m3/3\u001b[0m \u001b[32m━━━━━━━━━━━━━━━━━━━━\u001b[0m\u001b[37m\u001b[0m \u001b[1m0s\u001b[0m 31ms/step - loss: 1006.7057 - mae: 28.7902 - val_loss: 817.7114 - val_mae: 26.3801\n",
      "Epoch 39/100\n",
      "\u001b[1m3/3\u001b[0m \u001b[32m━━━━━━━━━━━━━━━━━━━━\u001b[0m\u001b[37m\u001b[0m \u001b[1m0s\u001b[0m 31ms/step - loss: 887.8955 - mae: 25.7219 - val_loss: 676.5234 - val_mae: 24.0403\n",
      "Epoch 40/100\n",
      "\u001b[1m3/3\u001b[0m \u001b[32m━━━━━━━━━━━━━━━━━━━━\u001b[0m\u001b[37m\u001b[0m \u001b[1m0s\u001b[0m 32ms/step - loss: 766.4034 - mae: 24.8287 - val_loss: 559.9674 - val_mae: 21.7653\n",
      "Epoch 41/100\n",
      "\u001b[1m3/3\u001b[0m \u001b[32m━━━━━━━━━━━━━━━━━━━━\u001b[0m\u001b[37m\u001b[0m \u001b[1m0s\u001b[0m 31ms/step - loss: 713.9823 - mae: 23.2155 - val_loss: 468.6278 - val_mae: 19.6463\n",
      "Epoch 42/100\n",
      "\u001b[1m3/3\u001b[0m \u001b[32m━━━━━━━━━━━━━━━━━━━━\u001b[0m\u001b[37m\u001b[0m \u001b[1m0s\u001b[0m 31ms/step - loss: 447.1127 - mae: 17.6992 - val_loss: 400.9396 - val_mae: 17.9494\n",
      "Epoch 43/100\n",
      "\u001b[1m3/3\u001b[0m \u001b[32m━━━━━━━━━━━━━━━━━━━━\u001b[0m\u001b[37m\u001b[0m \u001b[1m0s\u001b[0m 31ms/step - loss: 434.8191 - mae: 17.1108 - val_loss: 349.8515 - val_mae: 16.4506\n",
      "Epoch 44/100\n",
      "\u001b[1m3/3\u001b[0m \u001b[32m━━━━━━━━━━━━━━━━━━━━\u001b[0m\u001b[37m\u001b[0m \u001b[1m0s\u001b[0m 32ms/step - loss: 466.2385 - mae: 18.3611 - val_loss: 314.3943 - val_mae: 15.4026\n",
      "Epoch 45/100\n",
      "\u001b[1m3/3\u001b[0m \u001b[32m━━━━━━━━━━━━━━━━━━━━\u001b[0m\u001b[37m\u001b[0m \u001b[1m0s\u001b[0m 31ms/step - loss: 423.6857 - mae: 15.6312 - val_loss: 288.0932 - val_mae: 14.6564\n",
      "Epoch 46/100\n",
      "\u001b[1m3/3\u001b[0m \u001b[32m━━━━━━━━━━━━━━━━━━━━\u001b[0m\u001b[37m\u001b[0m \u001b[1m0s\u001b[0m 31ms/step - loss: 489.0997 - mae: 18.0477 - val_loss: 265.8547 - val_mae: 13.9485\n",
      "Epoch 47/100\n",
      "\u001b[1m3/3\u001b[0m \u001b[32m━━━━━━━━━━━━━━━━━━━━\u001b[0m\u001b[37m\u001b[0m \u001b[1m0s\u001b[0m 32ms/step - loss: 493.0778 - mae: 18.0630 - val_loss: 251.2249 - val_mae: 13.4416\n",
      "Epoch 48/100\n",
      "\u001b[1m3/3\u001b[0m \u001b[32m━━━━━━━━━━━━━━━━━━━━\u001b[0m\u001b[37m\u001b[0m \u001b[1m0s\u001b[0m 32ms/step - loss: 434.9294 - mae: 16.6277 - val_loss: 242.5929 - val_mae: 13.1385\n",
      "Epoch 49/100\n",
      "\u001b[1m3/3\u001b[0m \u001b[32m━━━━━━━━━━━━━━━━━━━━\u001b[0m\u001b[37m\u001b[0m \u001b[1m0s\u001b[0m 31ms/step - loss: 369.9955 - mae: 16.2688 - val_loss: 237.8000 - val_mae: 12.9477\n",
      "Epoch 50/100\n",
      "\u001b[1m3/3\u001b[0m \u001b[32m━━━━━━━━━━━━━━━━━━━━\u001b[0m\u001b[37m\u001b[0m \u001b[1m0s\u001b[0m 31ms/step - loss: 392.2488 - mae: 16.5739 - val_loss: 236.3114 - val_mae: 12.8225\n",
      "Epoch 51/100\n",
      "\u001b[1m3/3\u001b[0m \u001b[32m━━━━━━━━━━━━━━━━━━━━\u001b[0m\u001b[37m\u001b[0m \u001b[1m0s\u001b[0m 26ms/step - loss: 436.3758 - mae: 16.9666 - val_loss: 239.2473 - val_mae: 12.9037\n",
      "Epoch 52/100\n",
      "\u001b[1m3/3\u001b[0m \u001b[32m━━━━━━━━━━━━━━━━━━━━\u001b[0m\u001b[37m\u001b[0m \u001b[1m0s\u001b[0m 24ms/step - loss: 452.3534 - mae: 18.0747 - val_loss: 245.7562 - val_mae: 13.0525\n",
      "Epoch 53/100\n",
      "\u001b[1m3/3\u001b[0m \u001b[32m━━━━━━━━━━━━━━━━━━━━\u001b[0m\u001b[37m\u001b[0m \u001b[1m0s\u001b[0m 21ms/step - loss: 406.5389 - mae: 16.7568 - val_loss: 249.4516 - val_mae: 13.1778\n",
      "Epoch 54/100\n",
      "\u001b[1m3/3\u001b[0m \u001b[32m━━━━━━━━━━━━━━━━━━━━\u001b[0m\u001b[37m\u001b[0m \u001b[1m0s\u001b[0m 21ms/step - loss: 434.2120 - mae: 17.6711 - val_loss: 252.1814 - val_mae: 13.2495\n",
      "Epoch 55/100\n",
      "\u001b[1m3/3\u001b[0m \u001b[32m━━━━━━━━━━━━━━━━━━━━\u001b[0m\u001b[37m\u001b[0m \u001b[1m0s\u001b[0m 23ms/step - loss: 371.6407 - mae: 15.0052 - val_loss: 254.3316 - val_mae: 13.2755\n",
      "Epoch 56/100\n",
      "\u001b[1m3/3\u001b[0m \u001b[32m━━━━━━━━━━━━━━━━━━━━\u001b[0m\u001b[37m\u001b[0m \u001b[1m0s\u001b[0m 24ms/step - loss: 375.9908 - mae: 14.9675 - val_loss: 258.2991 - val_mae: 13.4009\n",
      "Epoch 57/100\n",
      "\u001b[1m3/3\u001b[0m \u001b[32m━━━━━━━━━━━━━━━━━━━━\u001b[0m\u001b[37m\u001b[0m \u001b[1m0s\u001b[0m 22ms/step - loss: 386.3044 - mae: 15.8726 - val_loss: 262.2484 - val_mae: 13.5310\n",
      "Epoch 58/100\n",
      "\u001b[1m3/3\u001b[0m \u001b[32m━━━━━━━━━━━━━━━━━━━━\u001b[0m\u001b[37m\u001b[0m \u001b[1m0s\u001b[0m 21ms/step - loss: 373.0013 - mae: 15.1077 - val_loss: 264.0879 - val_mae: 13.6006\n",
      "Epoch 59/100\n",
      "\u001b[1m3/3\u001b[0m \u001b[32m━━━━━━━━━━━━━━━━━━━━\u001b[0m\u001b[37m\u001b[0m \u001b[1m0s\u001b[0m 20ms/step - loss: 405.1036 - mae: 16.7212 - val_loss: 263.7534 - val_mae: 13.5708\n",
      "Epoch 60/100\n",
      "\u001b[1m3/3\u001b[0m \u001b[32m━━━━━━━━━━━━━━━━━━━━\u001b[0m\u001b[37m\u001b[0m \u001b[1m0s\u001b[0m 28ms/step - loss: 358.3174 - mae: 15.2991 - val_loss: 263.8012 - val_mae: 13.5452\n"
     ]
    }
   ],
   "source": [
    "# Training the model\n",
    "history = model.fit(X_train_scaled, \n",
    "                         y_train,\n",
    "                         validation_split = 0.2,\n",
    "                         epochs = 100,\n",
    "                         batch_size = 32,\n",
    "                         callbacks = [early_stopping, model_checkpoint])"
   ]
  },
  {
   "cell_type": "markdown",
   "id": "63684bab-819b-4846-b67f-7e878d845f71",
   "metadata": {},
   "source": [
    "## Model Evaluation"
   ]
  },
  {
   "cell_type": "code",
   "execution_count": 126,
   "id": "ca632b0a-c37a-48e5-b0f6-12e45f004432",
   "metadata": {},
   "outputs": [
    {
     "name": "stdout",
     "output_type": "stream",
     "text": [
      "\u001b[1m1/1\u001b[0m \u001b[32m━━━━━━━━━━━━━━━━━━━━\u001b[0m\u001b[37m\u001b[0m \u001b[1m0s\u001b[0m 26ms/step - loss: 170.9769 - mae: 10.7771\n"
     ]
    }
   ],
   "source": [
    "# Evaluate the model on the test set\n",
    "teste_loss, teste_mae = model.evaluate(X_teste_scaled, y_teste)"
   ]
  },
  {
   "cell_type": "code",
   "execution_count": 127,
   "id": "b8c4a829-6bcb-486b-a7da-6d867de0d9b0",
   "metadata": {},
   "outputs": [
    {
     "name": "stdout",
     "output_type": "stream",
     "text": [
      "Test Loss: 170.97691345214844\n",
      "Test MAE: 10.77706527709961\n"
     ]
    }
   ],
   "source": [
    "print(f'Test Loss: {teste_loss}')\n",
    "print(f'Test MAE: {teste_mae}')"
   ]
  },
  {
   "cell_type": "code",
   "execution_count": null,
   "id": "bded69a2-652a-42d1-ba3d-2e417fb8d691",
   "metadata": {},
   "outputs": [],
   "source": []
  }
 ],
 "metadata": {
  "kernelspec": {
   "display_name": "Python 3 (ipykernel)",
   "language": "python",
   "name": "python3"
  },
  "language_info": {
   "codemirror_mode": {
    "name": "ipython",
    "version": 3
   },
   "file_extension": ".py",
   "mimetype": "text/x-python",
   "name": "python",
   "nbconvert_exporter": "python",
   "pygments_lexer": "ipython3",
   "version": "3.12.7"
  }
 },
 "nbformat": 4,
 "nbformat_minor": 5
}
