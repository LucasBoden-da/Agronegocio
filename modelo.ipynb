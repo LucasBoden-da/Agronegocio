{
 "cells": [
  {
   "cell_type": "code",
   "execution_count": 1,
   "id": "6f7bc950-f774-402a-a9b7-6fb0ffa7eef2",
   "metadata": {},
   "outputs": [
    {
     "name": "stdout",
     "output_type": "stream",
     "text": [
      "env: TF_CPP_MIN_LOG_LEVEL=3\n"
     ]
    }
   ],
   "source": [
    "%env TF_CPP_MIN_LOG_LEVEL=3"
   ]
  },
  {
   "cell_type": "code",
   "execution_count": 9,
   "id": "d1c2ce53-ea8b-462a-a985-cbc66f0f813b",
   "metadata": {},
   "outputs": [],
   "source": [
    "#Imports\n",
    "import joblib\n",
    "import sklearn\n",
    "import pandas as pd\n",
    "import tensorflow as tf\n",
    "from sklearn.model_selection import train_test_split\n",
    "from sklearn.preprocessing import StandardScaler\n",
    "from tensorflow.keras.models import Sequential\n",
    "from tensorflow.keras.layers import Dense, Dropout\n",
    "from tensorflow.keras.callbacks import EarlyStopping, ModelCheckpoint\n",
    "import warnings\n",
    "warnings.filterwarnings('ignore')"
   ]
  },
  {
   "cell_type": "markdown",
   "id": "cd76a807-f3f8-4c20-b7e2-90478234c6ac",
   "metadata": {},
   "source": [
    "## Carregando o Conjunto de Dados"
   ]
  },
  {
   "cell_type": "code",
   "execution_count": 5,
   "id": "1cf9db92-ba97-4f7e-b3b9-f9c2830e351a",
   "metadata": {},
   "outputs": [
    {
     "data": {
      "text/html": [
       "<div>\n",
       "<style scoped>\n",
       "    .dataframe tbody tr th:only-of-type {\n",
       "        vertical-align: middle;\n",
       "    }\n",
       "\n",
       "    .dataframe tbody tr th {\n",
       "        vertical-align: top;\n",
       "    }\n",
       "\n",
       "    .dataframe thead th {\n",
       "        text-align: right;\n",
       "    }\n",
       "</style>\n",
       "<table border=\"1\" class=\"dataframe\">\n",
       "  <thead>\n",
       "    <tr style=\"text-align: right;\">\n",
       "      <th></th>\n",
       "      <th>data</th>\n",
       "      <th>indice_vegetacao</th>\n",
       "      <th>capacidade_solo</th>\n",
       "      <th>concentracao_co2</th>\n",
       "      <th>nivel_nutrientes</th>\n",
       "      <th>indice_fertilizantes</th>\n",
       "      <th>profundidade_raiz</th>\n",
       "      <th>radiacao_solar</th>\n",
       "      <th>precipitacao</th>\n",
       "      <th>estagio_crescimento</th>\n",
       "      <th>historico_rendimento</th>\n",
       "      <th>umidade</th>\n",
       "    </tr>\n",
       "  </thead>\n",
       "  <tbody>\n",
       "    <tr>\n",
       "      <th>0</th>\n",
       "      <td>2012-12-01</td>\n",
       "      <td>323</td>\n",
       "      <td>455</td>\n",
       "      <td>3102.61</td>\n",
       "      <td>423.45</td>\n",
       "      <td>844.0</td>\n",
       "      <td>468.0</td>\n",
       "      <td>578.0</td>\n",
       "      <td>28.67</td>\n",
       "      <td>207.70504</td>\n",
       "      <td>117.7</td>\n",
       "      <td>79.261905</td>\n",
       "    </tr>\n",
       "    <tr>\n",
       "      <th>1</th>\n",
       "      <td>2013-01-01</td>\n",
       "      <td>345</td>\n",
       "      <td>546</td>\n",
       "      <td>3100.45</td>\n",
       "      <td>415.85</td>\n",
       "      <td>799.0</td>\n",
       "      <td>485.0</td>\n",
       "      <td>557.0</td>\n",
       "      <td>24.49</td>\n",
       "      <td>228.94287</td>\n",
       "      <td>4.5</td>\n",
       "      <td>82.193548</td>\n",
       "    </tr>\n",
       "    <tr>\n",
       "      <th>2</th>\n",
       "      <td>2013-02-01</td>\n",
       "      <td>362</td>\n",
       "      <td>595</td>\n",
       "      <td>3199.41</td>\n",
       "      <td>410.77</td>\n",
       "      <td>718.0</td>\n",
       "      <td>466.0</td>\n",
       "      <td>552.0</td>\n",
       "      <td>22.06</td>\n",
       "      <td>238.41747</td>\n",
       "      <td>25.1</td>\n",
       "      <td>74.839286</td>\n",
       "    </tr>\n",
       "    <tr>\n",
       "      <th>3</th>\n",
       "      <td>2013-03-01</td>\n",
       "      <td>376</td>\n",
       "      <td>636</td>\n",
       "      <td>3281.67</td>\n",
       "      <td>414.82</td>\n",
       "      <td>614.0</td>\n",
       "      <td>442.0</td>\n",
       "      <td>574.0</td>\n",
       "      <td>21.64</td>\n",
       "      <td>218.47599</td>\n",
       "      <td>53.6</td>\n",
       "      <td>77.935484</td>\n",
       "    </tr>\n",
       "    <tr>\n",
       "      <th>4</th>\n",
       "      <td>2013-04-01</td>\n",
       "      <td>383</td>\n",
       "      <td>738</td>\n",
       "      <td>3261.65</td>\n",
       "      <td>451.04</td>\n",
       "      <td>619.0</td>\n",
       "      <td>429.0</td>\n",
       "      <td>595.0</td>\n",
       "      <td>22.30</td>\n",
       "      <td>226.15010</td>\n",
       "      <td>166.0</td>\n",
       "      <td>80.450000</td>\n",
       "    </tr>\n",
       "  </tbody>\n",
       "</table>\n",
       "</div>"
      ],
      "text/plain": [
       "         data  indice_vegetacao  capacidade_solo  concentracao_co2  \\\n",
       "0  2012-12-01               323              455           3102.61   \n",
       "1  2013-01-01               345              546           3100.45   \n",
       "2  2013-02-01               362              595           3199.41   \n",
       "3  2013-03-01               376              636           3281.67   \n",
       "4  2013-04-01               383              738           3261.65   \n",
       "\n",
       "   nivel_nutrientes  indice_fertilizantes  profundidade_raiz  radiacao_solar  \\\n",
       "0            423.45                 844.0              468.0           578.0   \n",
       "1            415.85                 799.0              485.0           557.0   \n",
       "2            410.77                 718.0              466.0           552.0   \n",
       "3            414.82                 614.0              442.0           574.0   \n",
       "4            451.04                 619.0              429.0           595.0   \n",
       "\n",
       "   precipitacao  estagio_crescimento  historico_rendimento    umidade  \n",
       "0         28.67            207.70504                 117.7  79.261905  \n",
       "1         24.49            228.94287                   4.5  82.193548  \n",
       "2         22.06            238.41747                  25.1  74.839286  \n",
       "3         21.64            218.47599                  53.6  77.935484  \n",
       "4         22.30            226.15010                 166.0  80.450000  "
      ]
     },
     "execution_count": 5,
     "metadata": {},
     "output_type": "execute_result"
    }
   ],
   "source": [
    "df=pd.read_csv('dataset.csv')\n",
    "df.head()"
   ]
  },
  {
   "cell_type": "code",
   "execution_count": 6,
   "id": "d4f5b942-822d-47d8-9a07-d198abb743bc",
   "metadata": {},
   "outputs": [
    {
     "data": {
      "text/plain": [
       "(124, 12)"
      ]
     },
     "execution_count": 6,
     "metadata": {},
     "output_type": "execute_result"
    }
   ],
   "source": [
    "df.shape"
   ]
  },
  {
   "cell_type": "code",
   "execution_count": 7,
   "id": "2f1d65a2-0211-4f48-a2a8-e892c5de2109",
   "metadata": {},
   "outputs": [
    {
     "data": {
      "text/html": [
       "<div>\n",
       "<style scoped>\n",
       "    .dataframe tbody tr th:only-of-type {\n",
       "        vertical-align: middle;\n",
       "    }\n",
       "\n",
       "    .dataframe tbody tr th {\n",
       "        vertical-align: top;\n",
       "    }\n",
       "\n",
       "    .dataframe thead th {\n",
       "        text-align: right;\n",
       "    }\n",
       "</style>\n",
       "<table border=\"1\" class=\"dataframe\">\n",
       "  <thead>\n",
       "    <tr style=\"text-align: right;\">\n",
       "      <th></th>\n",
       "      <th>data</th>\n",
       "      <th>indice_vegetacao</th>\n",
       "      <th>capacidade_solo</th>\n",
       "      <th>concentracao_co2</th>\n",
       "      <th>nivel_nutrientes</th>\n",
       "      <th>indice_fertilizantes</th>\n",
       "      <th>profundidade_raiz</th>\n",
       "      <th>radiacao_solar</th>\n",
       "      <th>precipitacao</th>\n",
       "      <th>estagio_crescimento</th>\n",
       "      <th>historico_rendimento</th>\n",
       "      <th>umidade</th>\n",
       "    </tr>\n",
       "  </thead>\n",
       "  <tbody>\n",
       "    <tr>\n",
       "      <th>119</th>\n",
       "      <td>2022-11-01</td>\n",
       "      <td>362</td>\n",
       "      <td>363</td>\n",
       "      <td>2626.91</td>\n",
       "      <td>1252.78</td>\n",
       "      <td>738.07</td>\n",
       "      <td>427.49</td>\n",
       "      <td>1430.48</td>\n",
       "      <td>60.18</td>\n",
       "      <td>186.68326</td>\n",
       "      <td>38.2</td>\n",
       "      <td>77.950000</td>\n",
       "    </tr>\n",
       "    <tr>\n",
       "      <th>120</th>\n",
       "      <td>2022-12-01</td>\n",
       "      <td>310</td>\n",
       "      <td>322</td>\n",
       "      <td>2736.64</td>\n",
       "      <td>1287.68</td>\n",
       "      <td>749.57</td>\n",
       "      <td>385.09</td>\n",
       "      <td>1472.27</td>\n",
       "      <td>62.25</td>\n",
       "      <td>210.72987</td>\n",
       "      <td>33.7</td>\n",
       "      <td>76.177419</td>\n",
       "    </tr>\n",
       "    <tr>\n",
       "      <th>121</th>\n",
       "      <td>2023-01-01</td>\n",
       "      <td>277</td>\n",
       "      <td>307</td>\n",
       "      <td>2842.81</td>\n",
       "      <td>1289.12</td>\n",
       "      <td>761.60</td>\n",
       "      <td>373.03</td>\n",
       "      <td>1525.43</td>\n",
       "      <td>63.04</td>\n",
       "      <td>244.41912</td>\n",
       "      <td>4.6</td>\n",
       "      <td>74.774194</td>\n",
       "    </tr>\n",
       "    <tr>\n",
       "      <th>122</th>\n",
       "      <td>2023-02-01</td>\n",
       "      <td>323</td>\n",
       "      <td>330</td>\n",
       "      <td>2936.19</td>\n",
       "      <td>1303.59</td>\n",
       "      <td>759.59</td>\n",
       "      <td>390.69</td>\n",
       "      <td>1572.25</td>\n",
       "      <td>71.52</td>\n",
       "      <td>223.31732</td>\n",
       "      <td>6.9</td>\n",
       "      <td>66.910714</td>\n",
       "    </tr>\n",
       "    <tr>\n",
       "      <th>123</th>\n",
       "      <td>2023-03-01</td>\n",
       "      <td>360</td>\n",
       "      <td>339</td>\n",
       "      <td>2847.84</td>\n",
       "      <td>1234.88</td>\n",
       "      <td>771.62</td>\n",
       "      <td>396.87</td>\n",
       "      <td>1302.61</td>\n",
       "      <td>74.80</td>\n",
       "      <td>228.56676</td>\n",
       "      <td>41.5</td>\n",
       "      <td>69.000000</td>\n",
       "    </tr>\n",
       "  </tbody>\n",
       "</table>\n",
       "</div>"
      ],
      "text/plain": [
       "           data  indice_vegetacao  capacidade_solo  concentracao_co2  \\\n",
       "119  2022-11-01               362              363           2626.91   \n",
       "120  2022-12-01               310              322           2736.64   \n",
       "121  2023-01-01               277              307           2842.81   \n",
       "122  2023-02-01               323              330           2936.19   \n",
       "123  2023-03-01               360              339           2847.84   \n",
       "\n",
       "     nivel_nutrientes  indice_fertilizantes  profundidade_raiz  \\\n",
       "119           1252.78                738.07             427.49   \n",
       "120           1287.68                749.57             385.09   \n",
       "121           1289.12                761.60             373.03   \n",
       "122           1303.59                759.59             390.69   \n",
       "123           1234.88                771.62             396.87   \n",
       "\n",
       "     radiacao_solar  precipitacao  estagio_crescimento  historico_rendimento  \\\n",
       "119         1430.48         60.18            186.68326                  38.2   \n",
       "120         1472.27         62.25            210.72987                  33.7   \n",
       "121         1525.43         63.04            244.41912                   4.6   \n",
       "122         1572.25         71.52            223.31732                   6.9   \n",
       "123         1302.61         74.80            228.56676                  41.5   \n",
       "\n",
       "       umidade  \n",
       "119  77.950000  \n",
       "120  76.177419  \n",
       "121  74.774194  \n",
       "122  66.910714  \n",
       "123  69.000000  "
      ]
     },
     "execution_count": 7,
     "metadata": {},
     "output_type": "execute_result"
    }
   ],
   "source": [
    "df.tail()"
   ]
  },
  {
   "cell_type": "markdown",
   "id": "004c7e86-d5d4-4011-a794-f8e39bc68941",
   "metadata": {},
   "source": [
    "## Análise Exploratória"
   ]
  },
  {
   "cell_type": "code",
   "execution_count": 8,
   "id": "ba8d8a8b-b615-47b7-bc15-92976cdcc29d",
   "metadata": {},
   "outputs": [
    {
     "data": {
      "text/plain": [
       "data                     object\n",
       "indice_vegetacao          int64\n",
       "capacidade_solo           int64\n",
       "concentracao_co2        float64\n",
       "nivel_nutrientes        float64\n",
       "indice_fertilizantes    float64\n",
       "profundidade_raiz       float64\n",
       "radiacao_solar          float64\n",
       "precipitacao            float64\n",
       "estagio_crescimento     float64\n",
       "historico_rendimento    float64\n",
       "umidade                 float64\n",
       "dtype: object"
      ]
     },
     "execution_count": 8,
     "metadata": {},
     "output_type": "execute_result"
    }
   ],
   "source": [
    "# Verificar os tipos de dados das colunas para comparar com o dicionario\n",
    "df.dtypes"
   ]
  },
  {
   "cell_type": "code",
   "execution_count": 11,
   "id": "da8eeeae-34ea-4226-ac3a-92c1d40cdbc9",
   "metadata": {},
   "outputs": [
    {
     "data": {
      "text/plain": [
       "Index(['data', 'indice_vegetacao', 'capacidade_solo', 'concentracao_co2',\n",
       "       'nivel_nutrientes', 'indice_fertilizantes', 'profundidade_raiz',\n",
       "       'radiacao_solar', 'precipitacao', 'estagio_crescimento',\n",
       "       'historico_rendimento', 'umidade'],\n",
       "      dtype='object')"
      ]
     },
     "execution_count": 11,
     "metadata": {},
     "output_type": "execute_result"
    }
   ],
   "source": [
    "# Exibir as colunas do dataset para ver se tem algum problema de espaço no nome ou algum outro tipo de problema comum\n",
    "df.columns"
   ]
  },
  {
   "cell_type": "code",
   "execution_count": 13,
   "id": "97669514-aa5f-4422-befb-e0e3d6045886",
   "metadata": {},
   "outputs": [
    {
     "name": "stdout",
     "output_type": "stream",
     "text": [
      "Colunas não numéricas: Index(['data'], dtype='object')\n"
     ]
    }
   ],
   "source": [
    "# Colunas não numéricas precisam ser tratadas\n",
    "non_numeric_columns = df.select_dtypes(include = ['object']).columns\n",
    "print(f'Colunas não numéricas: {non_numeric_columns}')"
   ]
  },
  {
   "cell_type": "code",
   "execution_count": 16,
   "id": "336c50f2-2f09-443d-bb8d-044cdc32653e",
   "metadata": {},
   "outputs": [
    {
     "data": {
      "text/plain": [
       "data                    0\n",
       "indice_vegetacao        0\n",
       "capacidade_solo         0\n",
       "concentracao_co2        0\n",
       "nivel_nutrientes        0\n",
       "indice_fertilizantes    0\n",
       "profundidade_raiz       0\n",
       "radiacao_solar          0\n",
       "precipitacao            0\n",
       "estagio_crescimento     0\n",
       "historico_rendimento    0\n",
       "umidade                 0\n",
       "dtype: int64"
      ]
     },
     "execution_count": 16,
     "metadata": {},
     "output_type": "execute_result"
    }
   ],
   "source": [
    "#Verificar se tem valores nulos\n",
    "df.isnull().sum()"
   ]
  },
  {
   "cell_type": "markdown",
   "id": "9814927e-0c84-485e-9494-4469c00a33d4",
   "metadata": {},
   "source": [
    "## Limpeza e Transformação"
   ]
  },
  {
   "cell_type": "code",
   "execution_count": 18,
   "id": "6466601b-0c4e-4233-9c93-7a97d9a6fe84",
   "metadata": {},
   "outputs": [],
   "source": [
    "# A data nesse dataset está servindo como um ID. Como eu não estou fazendo uma análise de série temporal, irei remover essa coluna\n",
    "df = df.drop(columns = non_numeric_columns)"
   ]
  },
  {
   "cell_type": "markdown",
   "id": "b9eac5db-6932-4898-9059-73e86c165b01",
   "metadata": {},
   "source": [
    "## Padronização dos Dados"
   ]
  },
  {
   "cell_type": "code",
   "execution_count": 19,
   "id": "1640df12-6a9e-4045-9cd7-ec904dd4c162",
   "metadata": {},
   "outputs": [],
   "source": [
    "# Define a variável alvo\n",
    "X = df.drop(columns='umidade')\n",
    "y = df['umidade']"
   ]
  },
  {
   "cell_type": "code",
   "execution_count": 20,
   "id": "80fd81cd-57e4-4738-9547-441047d6b8fa",
   "metadata": {},
   "outputs": [],
   "source": [
    "# Separa os dados em treino e teste\n",
    "X_treino, X_teste, y_treino, y_teste = train_test_split(X, y, test_size = 0.2, random_state = 42)"
   ]
  },
  {
   "cell_type": "code",
   "execution_count": 22,
   "id": "12ef7f1c-bc89-4f16-bf09-fec5977deca3",
   "metadata": {},
   "outputs": [],
   "source": [
    "# Define o padronizador\n",
    "scaler = StandardScaler()"
   ]
  },
  {
   "cell_type": "code",
   "execution_count": 32,
   "id": "76f7957c-df36-40ca-bd26-3a026edd7026",
   "metadata": {},
   "outputs": [],
   "source": [
    "# Padroniza os dados\n",
    "X_treino_scaled = scaler.fit_transform(X_treino)\n",
    "X_teste_scaled = scaler.transform(X_teste)"
   ]
  },
  {
   "cell_type": "code",
   "execution_count": 25,
   "id": "129eae74-4a10-4751-8c68-0a840744df9c",
   "metadata": {},
   "outputs": [
    {
     "data": {
      "text/plain": [
       "['scaler.joblib']"
      ]
     },
     "execution_count": 25,
     "metadata": {},
     "output_type": "execute_result"
    }
   ],
   "source": [
    "# Salva o padronizador em disco, pois ele será utilizado nos novos dados após o deploy\n",
    "joblib.dump(scaler,'scaler.joblib')"
   ]
  },
  {
   "cell_type": "code",
   "execution_count": 27,
   "id": "72858b64-d929-4c30-9b25-65ea46dc8a6c",
   "metadata": {},
   "outputs": [],
   "source": [
    "# Definir a arquitetura do modelo. \n",
    "# Utilizei uma arquitetura típica em problemas de regressão onde se deseja prever um único valor contínuo a partir de multiplas características de entrada\n",
    "modelo = Sequential([Dense(64, activation = 'relu', input_shape = (X_treino.shape[1],)),\n",
    "                         Dropout(0.3),\n",
    "                         Dense(32, activation = 'relu'),\n",
    "                         Dropout(0.3),\n",
    "                         Dense(16, activation = 'relu'),\n",
    "                         Dense(1)])"
   ]
  },
  {
   "cell_type": "code",
   "execution_count": 28,
   "id": "4b138aa7-85e4-46fe-bd5c-b391fad47f0e",
   "metadata": {},
   "outputs": [],
   "source": [
    "# Compilar o modelo\n",
    "modelo_dsa.compile(optimizer = 'adam', loss = 'mse', metrics = ['mae'])"
   ]
  },
  {
   "cell_type": "code",
   "execution_count": 29,
   "id": "04628d0e-3005-46c8-ba7e-403c488167f6",
   "metadata": {},
   "outputs": [],
   "source": [
    "# Callbacks. Esses callbacks servem para definir quando o modelo deve parar de ser treinado e para salvar toda versão que for melhor que a anterior\n",
    "early_stopping = EarlyStopping(monitor = 'val_loss', patience = 10, restore_best_weights = True)\n",
    "model_checkpoint = ModelCheckpoint('modelo_dsa.keras', save_best_only = True)"
   ]
  },
  {
   "cell_type": "markdown",
   "id": "ba9a8c0f-1583-41dc-986b-663a57f76473",
   "metadata": {},
   "source": [
    "## Treinamento do Modelo"
   ]
  },
  {
   "cell_type": "code",
   "execution_count": 30,
   "id": "ebc080d3-8422-4645-a6f4-2505668fa5af",
   "metadata": {},
   "outputs": [
    {
     "data": {
      "text/html": [
       "<pre style=\"white-space:pre;overflow-x:auto;line-height:normal;font-family:Menlo,'DejaVu Sans Mono',consolas,'Courier New',monospace\"><span style=\"font-weight: bold\">Model: \"sequential_1\"</span>\n",
       "</pre>\n"
      ],
      "text/plain": [
       "\u001b[1mModel: \"sequential_1\"\u001b[0m\n"
      ]
     },
     "metadata": {},
     "output_type": "display_data"
    },
    {
     "data": {
      "text/html": [
       "<pre style=\"white-space:pre;overflow-x:auto;line-height:normal;font-family:Menlo,'DejaVu Sans Mono',consolas,'Courier New',monospace\">┏━━━━━━━━━━━━━━━━━━━━━━━━━━━━━━━━━━━━━━┳━━━━━━━━━━━━━━━━━━━━━━━━━━━━━┳━━━━━━━━━━━━━━━━━┓\n",
       "┃<span style=\"font-weight: bold\"> Layer (type)                         </span>┃<span style=\"font-weight: bold\"> Output Shape                </span>┃<span style=\"font-weight: bold\">         Param # </span>┃\n",
       "┡━━━━━━━━━━━━━━━━━━━━━━━━━━━━━━━━━━━━━━╇━━━━━━━━━━━━━━━━━━━━━━━━━━━━━╇━━━━━━━━━━━━━━━━━┩\n",
       "│ dense_4 (<span style=\"color: #0087ff; text-decoration-color: #0087ff\">Dense</span>)                      │ (<span style=\"color: #00d7ff; text-decoration-color: #00d7ff\">None</span>, <span style=\"color: #00af00; text-decoration-color: #00af00\">64</span>)                  │             <span style=\"color: #00af00; text-decoration-color: #00af00\">704</span> │\n",
       "├──────────────────────────────────────┼─────────────────────────────┼─────────────────┤\n",
       "│ dropout_2 (<span style=\"color: #0087ff; text-decoration-color: #0087ff\">Dropout</span>)                  │ (<span style=\"color: #00d7ff; text-decoration-color: #00d7ff\">None</span>, <span style=\"color: #00af00; text-decoration-color: #00af00\">64</span>)                  │               <span style=\"color: #00af00; text-decoration-color: #00af00\">0</span> │\n",
       "├──────────────────────────────────────┼─────────────────────────────┼─────────────────┤\n",
       "│ dense_5 (<span style=\"color: #0087ff; text-decoration-color: #0087ff\">Dense</span>)                      │ (<span style=\"color: #00d7ff; text-decoration-color: #00d7ff\">None</span>, <span style=\"color: #00af00; text-decoration-color: #00af00\">32</span>)                  │           <span style=\"color: #00af00; text-decoration-color: #00af00\">2,080</span> │\n",
       "├──────────────────────────────────────┼─────────────────────────────┼─────────────────┤\n",
       "│ dropout_3 (<span style=\"color: #0087ff; text-decoration-color: #0087ff\">Dropout</span>)                  │ (<span style=\"color: #00d7ff; text-decoration-color: #00d7ff\">None</span>, <span style=\"color: #00af00; text-decoration-color: #00af00\">32</span>)                  │               <span style=\"color: #00af00; text-decoration-color: #00af00\">0</span> │\n",
       "├──────────────────────────────────────┼─────────────────────────────┼─────────────────┤\n",
       "│ dense_6 (<span style=\"color: #0087ff; text-decoration-color: #0087ff\">Dense</span>)                      │ (<span style=\"color: #00d7ff; text-decoration-color: #00d7ff\">None</span>, <span style=\"color: #00af00; text-decoration-color: #00af00\">16</span>)                  │             <span style=\"color: #00af00; text-decoration-color: #00af00\">528</span> │\n",
       "├──────────────────────────────────────┼─────────────────────────────┼─────────────────┤\n",
       "│ dense_7 (<span style=\"color: #0087ff; text-decoration-color: #0087ff\">Dense</span>)                      │ (<span style=\"color: #00d7ff; text-decoration-color: #00d7ff\">None</span>, <span style=\"color: #00af00; text-decoration-color: #00af00\">1</span>)                   │              <span style=\"color: #00af00; text-decoration-color: #00af00\">17</span> │\n",
       "└──────────────────────────────────────┴─────────────────────────────┴─────────────────┘\n",
       "</pre>\n"
      ],
      "text/plain": [
       "┏━━━━━━━━━━━━━━━━━━━━━━━━━━━━━━━━━━━━━━┳━━━━━━━━━━━━━━━━━━━━━━━━━━━━━┳━━━━━━━━━━━━━━━━━┓\n",
       "┃\u001b[1m \u001b[0m\u001b[1mLayer (type)                        \u001b[0m\u001b[1m \u001b[0m┃\u001b[1m \u001b[0m\u001b[1mOutput Shape               \u001b[0m\u001b[1m \u001b[0m┃\u001b[1m \u001b[0m\u001b[1m        Param #\u001b[0m\u001b[1m \u001b[0m┃\n",
       "┡━━━━━━━━━━━━━━━━━━━━━━━━━━━━━━━━━━━━━━╇━━━━━━━━━━━━━━━━━━━━━━━━━━━━━╇━━━━━━━━━━━━━━━━━┩\n",
       "│ dense_4 (\u001b[38;5;33mDense\u001b[0m)                      │ (\u001b[38;5;45mNone\u001b[0m, \u001b[38;5;34m64\u001b[0m)                  │             \u001b[38;5;34m704\u001b[0m │\n",
       "├──────────────────────────────────────┼─────────────────────────────┼─────────────────┤\n",
       "│ dropout_2 (\u001b[38;5;33mDropout\u001b[0m)                  │ (\u001b[38;5;45mNone\u001b[0m, \u001b[38;5;34m64\u001b[0m)                  │               \u001b[38;5;34m0\u001b[0m │\n",
       "├──────────────────────────────────────┼─────────────────────────────┼─────────────────┤\n",
       "│ dense_5 (\u001b[38;5;33mDense\u001b[0m)                      │ (\u001b[38;5;45mNone\u001b[0m, \u001b[38;5;34m32\u001b[0m)                  │           \u001b[38;5;34m2,080\u001b[0m │\n",
       "├──────────────────────────────────────┼─────────────────────────────┼─────────────────┤\n",
       "│ dropout_3 (\u001b[38;5;33mDropout\u001b[0m)                  │ (\u001b[38;5;45mNone\u001b[0m, \u001b[38;5;34m32\u001b[0m)                  │               \u001b[38;5;34m0\u001b[0m │\n",
       "├──────────────────────────────────────┼─────────────────────────────┼─────────────────┤\n",
       "│ dense_6 (\u001b[38;5;33mDense\u001b[0m)                      │ (\u001b[38;5;45mNone\u001b[0m, \u001b[38;5;34m16\u001b[0m)                  │             \u001b[38;5;34m528\u001b[0m │\n",
       "├──────────────────────────────────────┼─────────────────────────────┼─────────────────┤\n",
       "│ dense_7 (\u001b[38;5;33mDense\u001b[0m)                      │ (\u001b[38;5;45mNone\u001b[0m, \u001b[38;5;34m1\u001b[0m)                   │              \u001b[38;5;34m17\u001b[0m │\n",
       "└──────────────────────────────────────┴─────────────────────────────┴─────────────────┘\n"
      ]
     },
     "metadata": {},
     "output_type": "display_data"
    },
    {
     "data": {
      "text/html": [
       "<pre style=\"white-space:pre;overflow-x:auto;line-height:normal;font-family:Menlo,'DejaVu Sans Mono',consolas,'Courier New',monospace\"><span style=\"font-weight: bold\"> Total params: </span><span style=\"color: #00af00; text-decoration-color: #00af00\">3,329</span> (13.00 KB)\n",
       "</pre>\n"
      ],
      "text/plain": [
       "\u001b[1m Total params: \u001b[0m\u001b[38;5;34m3,329\u001b[0m (13.00 KB)\n"
      ]
     },
     "metadata": {},
     "output_type": "display_data"
    },
    {
     "data": {
      "text/html": [
       "<pre style=\"white-space:pre;overflow-x:auto;line-height:normal;font-family:Menlo,'DejaVu Sans Mono',consolas,'Courier New',monospace\"><span style=\"font-weight: bold\"> Trainable params: </span><span style=\"color: #00af00; text-decoration-color: #00af00\">3,329</span> (13.00 KB)\n",
       "</pre>\n"
      ],
      "text/plain": [
       "\u001b[1m Trainable params: \u001b[0m\u001b[38;5;34m3,329\u001b[0m (13.00 KB)\n"
      ]
     },
     "metadata": {},
     "output_type": "display_data"
    },
    {
     "data": {
      "text/html": [
       "<pre style=\"white-space:pre;overflow-x:auto;line-height:normal;font-family:Menlo,'DejaVu Sans Mono',consolas,'Courier New',monospace\"><span style=\"font-weight: bold\"> Non-trainable params: </span><span style=\"color: #00af00; text-decoration-color: #00af00\">0</span> (0.00 B)\n",
       "</pre>\n"
      ],
      "text/plain": [
       "\u001b[1m Non-trainable params: \u001b[0m\u001b[38;5;34m0\u001b[0m (0.00 B)\n"
      ]
     },
     "metadata": {},
     "output_type": "display_data"
    }
   ],
   "source": [
    "modelo.summary()"
   ]
  },
  {
   "cell_type": "code",
   "execution_count": 33,
   "id": "80836ef2-5b50-422c-8953-1743233ba37f",
   "metadata": {},
   "outputs": [
    {
     "name": "stdout",
     "output_type": "stream",
     "text": [
      "Epoch 1/100\n",
      "\u001b[1m3/3\u001b[0m \u001b[32m━━━━━━━━━━━━━━━━━━━━\u001b[0m\u001b[37m\u001b[0m \u001b[1m1s\u001b[0m 106ms/step - loss: 5227.2500 - mae: 72.1609 - val_loss: 5194.6377 - val_mae: 71.9685\n",
      "Epoch 2/100\n",
      "\u001b[1m3/3\u001b[0m \u001b[32m━━━━━━━━━━━━━━━━━━━━\u001b[0m\u001b[37m\u001b[0m \u001b[1m0s\u001b[0m 33ms/step - loss: 5182.2324 - mae: 71.8521 - val_loss: 5173.6763 - val_mae: 71.8229\n",
      "Epoch 3/100\n",
      "\u001b[1m3/3\u001b[0m \u001b[32m━━━━━━━━━━━━━━━━━━━━\u001b[0m\u001b[37m\u001b[0m \u001b[1m0s\u001b[0m 31ms/step - loss: 5168.2393 - mae: 71.7569 - val_loss: 5152.1108 - val_mae: 71.6727\n",
      "Epoch 4/100\n",
      "\u001b[1m3/3\u001b[0m \u001b[32m━━━━━━━━━━━━━━━━━━━━\u001b[0m\u001b[37m\u001b[0m \u001b[1m0s\u001b[0m 30ms/step - loss: 5169.2808 - mae: 71.7564 - val_loss: 5128.9414 - val_mae: 71.5110\n",
      "Epoch 5/100\n",
      "\u001b[1m3/3\u001b[0m \u001b[32m━━━━━━━━━━━━━━━━━━━━\u001b[0m\u001b[37m\u001b[0m \u001b[1m0s\u001b[0m 30ms/step - loss: 5132.2896 - mae: 71.5120 - val_loss: 5104.1958 - val_mae: 71.3378\n",
      "Epoch 6/100\n",
      "\u001b[1m3/3\u001b[0m \u001b[32m━━━━━━━━━━━━━━━━━━━━\u001b[0m\u001b[37m\u001b[0m \u001b[1m0s\u001b[0m 33ms/step - loss: 5133.6685 - mae: 71.5235 - val_loss: 5076.8149 - val_mae: 71.1456\n",
      "Epoch 7/100\n",
      "\u001b[1m3/3\u001b[0m \u001b[32m━━━━━━━━━━━━━━━━━━━━\u001b[0m\u001b[37m\u001b[0m \u001b[1m0s\u001b[0m 33ms/step - loss: 5056.2051 - mae: 70.9758 - val_loss: 5046.0000 - val_mae: 70.9289\n",
      "Epoch 8/100\n",
      "\u001b[1m3/3\u001b[0m \u001b[32m━━━━━━━━━━━━━━━━━━━━\u001b[0m\u001b[37m\u001b[0m \u001b[1m0s\u001b[0m 32ms/step - loss: 5049.5918 - mae: 70.9121 - val_loss: 5011.4248 - val_mae: 70.6849\n",
      "Epoch 9/100\n",
      "\u001b[1m3/3\u001b[0m \u001b[32m━━━━━━━━━━━━━━━━━━━━\u001b[0m\u001b[37m\u001b[0m \u001b[1m0s\u001b[0m 32ms/step - loss: 5001.9194 - mae: 70.5683 - val_loss: 4972.9185 - val_mae: 70.4122\n",
      "Epoch 10/100\n",
      "\u001b[1m3/3\u001b[0m \u001b[32m━━━━━━━━━━━━━━━━━━━━\u001b[0m\u001b[37m\u001b[0m \u001b[1m0s\u001b[0m 32ms/step - loss: 4909.9897 - mae: 69.9300 - val_loss: 4929.1812 - val_mae: 70.1011\n",
      "Epoch 11/100\n",
      "\u001b[1m3/3\u001b[0m \u001b[32m━━━━━━━━━━━━━━━━━━━━\u001b[0m\u001b[37m\u001b[0m \u001b[1m0s\u001b[0m 30ms/step - loss: 4931.8340 - mae: 70.0618 - val_loss: 4880.1333 - val_mae: 69.7509\n",
      "Epoch 12/100\n",
      "\u001b[1m3/3\u001b[0m \u001b[32m━━━━━━━━━━━━━━━━━━━━\u001b[0m\u001b[37m\u001b[0m \u001b[1m0s\u001b[0m 32ms/step - loss: 4854.7178 - mae: 69.5379 - val_loss: 4824.9976 - val_mae: 69.3552\n",
      "Epoch 13/100\n",
      "\u001b[1m3/3\u001b[0m \u001b[32m━━━━━━━━━━━━━━━━━━━━\u001b[0m\u001b[37m\u001b[0m \u001b[1m0s\u001b[0m 35ms/step - loss: 4783.2695 - mae: 69.0261 - val_loss: 4762.8232 - val_mae: 68.9063\n",
      "Epoch 14/100\n",
      "\u001b[1m3/3\u001b[0m \u001b[32m━━━━━━━━━━━━━━━━━━━━\u001b[0m\u001b[37m\u001b[0m \u001b[1m0s\u001b[0m 31ms/step - loss: 4704.3647 - mae: 68.4564 - val_loss: 4693.2334 - val_mae: 68.4006\n",
      "Epoch 15/100\n",
      "\u001b[1m3/3\u001b[0m \u001b[32m━━━━━━━━━━━━━━━━━━━━\u001b[0m\u001b[37m\u001b[0m \u001b[1m0s\u001b[0m 32ms/step - loss: 4690.5488 - mae: 68.3400 - val_loss: 4615.6475 - val_mae: 67.8320\n",
      "Epoch 16/100\n",
      "\u001b[1m3/3\u001b[0m \u001b[32m━━━━━━━━━━━━━━━━━━━━\u001b[0m\u001b[37m\u001b[0m \u001b[1m0s\u001b[0m 35ms/step - loss: 4576.9238 - mae: 67.5135 - val_loss: 4528.3750 - val_mae: 67.1866\n",
      "Epoch 17/100\n",
      "\u001b[1m3/3\u001b[0m \u001b[32m━━━━━━━━━━━━━━━━━━━━\u001b[0m\u001b[37m\u001b[0m \u001b[1m0s\u001b[0m 33ms/step - loss: 4511.6416 - mae: 67.0281 - val_loss: 4430.5288 - val_mae: 66.4553\n",
      "Epoch 18/100\n",
      "\u001b[1m3/3\u001b[0m \u001b[32m━━━━━━━━━━━━━━━━━━━━\u001b[0m\u001b[37m\u001b[0m \u001b[1m0s\u001b[0m 33ms/step - loss: 4395.0322 - mae: 66.1027 - val_loss: 4321.0225 - val_mae: 65.6266\n",
      "Epoch 19/100\n",
      "\u001b[1m3/3\u001b[0m \u001b[32m━━━━━━━━━━━━━━━━━━━━\u001b[0m\u001b[37m\u001b[0m \u001b[1m0s\u001b[0m 35ms/step - loss: 4260.2559 - mae: 65.1081 - val_loss: 4198.0244 - val_mae: 64.6827\n",
      "Epoch 20/100\n",
      "\u001b[1m3/3\u001b[0m \u001b[32m━━━━━━━━━━━━━━━━━━━━\u001b[0m\u001b[37m\u001b[0m \u001b[1m0s\u001b[0m 31ms/step - loss: 4119.4053 - mae: 64.0170 - val_loss: 4060.0090 - val_mae: 63.6062\n",
      "Epoch 21/100\n",
      "\u001b[1m3/3\u001b[0m \u001b[32m━━━━━━━━━━━━━━━━━━━━\u001b[0m\u001b[37m\u001b[0m \u001b[1m0s\u001b[0m 31ms/step - loss: 3942.3289 - mae: 62.5729 - val_loss: 3906.3687 - val_mae: 62.3851\n",
      "Epoch 22/100\n",
      "\u001b[1m3/3\u001b[0m \u001b[32m━━━━━━━━━━━━━━━━━━━━\u001b[0m\u001b[37m\u001b[0m \u001b[1m0s\u001b[0m 32ms/step - loss: 3913.9180 - mae: 62.3687 - val_loss: 3737.0913 - val_mae: 61.0096\n",
      "Epoch 23/100\n",
      "\u001b[1m3/3\u001b[0m \u001b[32m━━━━━━━━━━━━━━━━━━━━\u001b[0m\u001b[37m\u001b[0m \u001b[1m0s\u001b[0m 32ms/step - loss: 3664.8857 - mae: 60.3402 - val_loss: 3551.0063 - val_mae: 59.4588\n",
      "Epoch 24/100\n",
      "\u001b[1m3/3\u001b[0m \u001b[32m━━━━━━━━━━━━━━━━━━━━\u001b[0m\u001b[37m\u001b[0m \u001b[1m0s\u001b[0m 31ms/step - loss: 3397.1697 - mae: 58.0315 - val_loss: 3347.5969 - val_mae: 57.7129\n",
      "Epoch 25/100\n",
      "\u001b[1m3/3\u001b[0m \u001b[32m━━━━━━━━━━━━━━━━━━━━\u001b[0m\u001b[37m\u001b[0m \u001b[1m0s\u001b[0m 32ms/step - loss: 3322.5334 - mae: 57.3143 - val_loss: 3130.0259 - val_mae: 55.7810\n",
      "Epoch 26/100\n",
      "\u001b[1m3/3\u001b[0m \u001b[32m━━━━━━━━━━━━━━━━━━━━\u001b[0m\u001b[37m\u001b[0m \u001b[1m0s\u001b[0m 32ms/step - loss: 3036.5042 - mae: 54.8104 - val_loss: 2895.2036 - val_mae: 53.6133\n",
      "Epoch 27/100\n",
      "\u001b[1m3/3\u001b[0m \u001b[32m━━━━━━━━━━━━━━━━━━━━\u001b[0m\u001b[37m\u001b[0m \u001b[1m0s\u001b[0m 32ms/step - loss: 2833.1335 - mae: 52.7918 - val_loss: 2643.9795 - val_mae: 51.1865\n",
      "Epoch 28/100\n",
      "\u001b[1m3/3\u001b[0m \u001b[32m━━━━━━━━━━━━━━━━━━━━\u001b[0m\u001b[37m\u001b[0m \u001b[1m0s\u001b[0m 31ms/step - loss: 2547.9788 - mae: 49.8872 - val_loss: 2380.1746 - val_mae: 48.4972\n",
      "Epoch 29/100\n",
      "\u001b[1m3/3\u001b[0m \u001b[32m━━━━━━━━━━━━━━━━━━━━\u001b[0m\u001b[37m\u001b[0m \u001b[1m0s\u001b[0m 33ms/step - loss: 2292.5833 - mae: 47.3534 - val_loss: 2108.7756 - val_mae: 45.5504\n",
      "Epoch 30/100\n",
      "\u001b[1m3/3\u001b[0m \u001b[32m━━━━━━━━━━━━━━━━━━━━\u001b[0m\u001b[37m\u001b[0m \u001b[1m0s\u001b[0m 31ms/step - loss: 1991.2439 - mae: 43.7676 - val_loss: 1834.6621 - val_mae: 42.3491\n",
      "Epoch 31/100\n",
      "\u001b[1m3/3\u001b[0m \u001b[32m━━━━━━━━━━━━━━━━━━━━\u001b[0m\u001b[37m\u001b[0m \u001b[1m0s\u001b[0m 33ms/step - loss: 1832.1223 - mae: 41.7612 - val_loss: 1564.2682 - val_mae: 38.9109\n",
      "Epoch 32/100\n",
      "\u001b[1m3/3\u001b[0m \u001b[32m━━━━━━━━━━━━━━━━━━━━\u001b[0m\u001b[37m\u001b[0m \u001b[1m0s\u001b[0m 33ms/step - loss: 1567.1030 - mae: 38.2621 - val_loss: 1301.8815 - val_mae: 35.2154\n",
      "Epoch 33/100\n",
      "\u001b[1m3/3\u001b[0m \u001b[32m━━━━━━━━━━━━━━━━━━━━\u001b[0m\u001b[37m\u001b[0m \u001b[1m0s\u001b[0m 31ms/step - loss: 1251.2074 - mae: 33.4638 - val_loss: 1056.1477 - val_mae: 31.3103\n",
      "Epoch 34/100\n",
      "\u001b[1m3/3\u001b[0m \u001b[32m━━━━━━━━━━━━━━━━━━━━\u001b[0m\u001b[37m\u001b[0m \u001b[1m0s\u001b[0m 32ms/step - loss: 1028.3193 - mae: 29.6223 - val_loss: 836.0460 - val_mae: 27.2631\n",
      "Epoch 35/100\n",
      "\u001b[1m3/3\u001b[0m \u001b[32m━━━━━━━━━━━━━━━━━━━━\u001b[0m\u001b[37m\u001b[0m \u001b[1m0s\u001b[0m 33ms/step - loss: 846.2950 - mae: 25.8129 - val_loss: 648.3904 - val_mae: 23.1689\n",
      "Epoch 36/100\n",
      "\u001b[1m3/3\u001b[0m \u001b[32m━━━━━━━━━━━━━━━━━━━━\u001b[0m\u001b[37m\u001b[0m \u001b[1m0s\u001b[0m 32ms/step - loss: 638.2799 - mae: 21.3663 - val_loss: 499.2557 - val_mae: 19.1888\n",
      "Epoch 37/100\n",
      "\u001b[1m3/3\u001b[0m \u001b[32m━━━━━━━━━━━━━━━━━━━━\u001b[0m\u001b[37m\u001b[0m \u001b[1m0s\u001b[0m 31ms/step - loss: 601.5585 - mae: 20.9752 - val_loss: 389.2559 - val_mae: 16.2840\n",
      "Epoch 38/100\n",
      "\u001b[1m3/3\u001b[0m \u001b[32m━━━━━━━━━━━━━━━━━━━━\u001b[0m\u001b[37m\u001b[0m \u001b[1m0s\u001b[0m 34ms/step - loss: 497.2595 - mae: 18.8849 - val_loss: 313.4064 - val_mae: 14.6811\n",
      "Epoch 39/100\n",
      "\u001b[1m3/3\u001b[0m \u001b[32m━━━━━━━━━━━━━━━━━━━━\u001b[0m\u001b[37m\u001b[0m \u001b[1m0s\u001b[0m 33ms/step - loss: 444.3219 - mae: 17.1001 - val_loss: 265.0419 - val_mae: 13.7800\n",
      "Epoch 40/100\n",
      "\u001b[1m3/3\u001b[0m \u001b[32m━━━━━━━━━━━━━━━━━━━━\u001b[0m\u001b[37m\u001b[0m \u001b[1m0s\u001b[0m 30ms/step - loss: 434.7631 - mae: 16.0757 - val_loss: 239.8679 - val_mae: 13.2607\n",
      "Epoch 41/100\n",
      "\u001b[1m3/3\u001b[0m \u001b[32m━━━━━━━━━━━━━━━━━━━━\u001b[0m\u001b[37m\u001b[0m \u001b[1m0s\u001b[0m 31ms/step - loss: 437.3888 - mae: 17.0739 - val_loss: 230.1591 - val_mae: 12.8669\n",
      "Epoch 42/100\n",
      "\u001b[1m3/3\u001b[0m \u001b[32m━━━━━━━━━━━━━━━━━━━━\u001b[0m\u001b[37m\u001b[0m \u001b[1m0s\u001b[0m 33ms/step - loss: 416.2713 - mae: 16.7977 - val_loss: 226.3551 - val_mae: 12.5249\n",
      "Epoch 43/100\n",
      "\u001b[1m3/3\u001b[0m \u001b[32m━━━━━━━━━━━━━━━━━━━━\u001b[0m\u001b[37m\u001b[0m \u001b[1m0s\u001b[0m 33ms/step - loss: 418.9205 - mae: 17.0921 - val_loss: 225.7175 - val_mae: 12.2102\n",
      "Epoch 44/100\n",
      "\u001b[1m3/3\u001b[0m \u001b[32m━━━━━━━━━━━━━━━━━━━━\u001b[0m\u001b[37m\u001b[0m \u001b[1m0s\u001b[0m 24ms/step - loss: 325.7697 - mae: 14.7486 - val_loss: 226.3882 - val_mae: 11.8961\n",
      "Epoch 45/100\n",
      "\u001b[1m3/3\u001b[0m \u001b[32m━━━━━━━━━━━━━━━━━━━━\u001b[0m\u001b[37m\u001b[0m \u001b[1m0s\u001b[0m 23ms/step - loss: 351.8184 - mae: 15.7964 - val_loss: 226.2500 - val_mae: 11.6692\n",
      "Epoch 46/100\n",
      "\u001b[1m3/3\u001b[0m \u001b[32m━━━━━━━━━━━━━━━━━━━━\u001b[0m\u001b[37m\u001b[0m \u001b[1m0s\u001b[0m 23ms/step - loss: 255.4218 - mae: 12.8544 - val_loss: 225.8183 - val_mae: 11.5538\n",
      "Epoch 47/100\n",
      "\u001b[1m3/3\u001b[0m \u001b[32m━━━━━━━━━━━━━━━━━━━━\u001b[0m\u001b[37m\u001b[0m \u001b[1m0s\u001b[0m 23ms/step - loss: 409.8205 - mae: 16.2047 - val_loss: 226.8882 - val_mae: 11.4874\n",
      "Epoch 48/100\n",
      "\u001b[1m3/3\u001b[0m \u001b[32m━━━━━━━━━━━━━━━━━━━━\u001b[0m\u001b[37m\u001b[0m \u001b[1m0s\u001b[0m 23ms/step - loss: 408.3959 - mae: 16.7963 - val_loss: 231.3113 - val_mae: 11.5733\n",
      "Epoch 49/100\n",
      "\u001b[1m3/3\u001b[0m \u001b[32m━━━━━━━━━━━━━━━━━━━━\u001b[0m\u001b[37m\u001b[0m \u001b[1m0s\u001b[0m 24ms/step - loss: 357.6591 - mae: 14.6598 - val_loss: 235.0115 - val_mae: 11.5805\n",
      "Epoch 50/100\n",
      "\u001b[1m3/3\u001b[0m \u001b[32m━━━━━━━━━━━━━━━━━━━━\u001b[0m\u001b[37m\u001b[0m \u001b[1m0s\u001b[0m 24ms/step - loss: 341.0100 - mae: 15.5390 - val_loss: 235.7471 - val_mae: 11.5173\n",
      "Epoch 51/100\n",
      "\u001b[1m3/3\u001b[0m \u001b[32m━━━━━━━━━━━━━━━━━━━━\u001b[0m\u001b[37m\u001b[0m \u001b[1m0s\u001b[0m 24ms/step - loss: 345.5524 - mae: 14.4252 - val_loss: 235.1054 - val_mae: 11.3947\n",
      "Epoch 52/100\n",
      "\u001b[1m3/3\u001b[0m \u001b[32m━━━━━━━━━━━━━━━━━━━━\u001b[0m\u001b[37m\u001b[0m \u001b[1m0s\u001b[0m 25ms/step - loss: 402.1482 - mae: 15.9384 - val_loss: 234.4227 - val_mae: 11.2955\n",
      "Epoch 53/100\n",
      "\u001b[1m3/3\u001b[0m \u001b[32m━━━━━━━━━━━━━━━━━━━━\u001b[0m\u001b[37m\u001b[0m \u001b[1m0s\u001b[0m 23ms/step - loss: 353.0022 - mae: 14.3585 - val_loss: 234.1445 - val_mae: 11.2085\n"
     ]
    }
   ],
   "source": [
    "# Treinar o modelo\n",
    "history = modelo_dsa.fit(X_treino_scaled, \n",
    "                         y_treino,\n",
    "                         validation_split = 0.2,\n",
    "                         epochs = 100,\n",
    "                         batch_size = 32,\n",
    "                         callbacks = [early_stopping, model_checkpoint])"
   ]
  },
  {
   "cell_type": "markdown",
   "id": "63684bab-819b-4846-b67f-7e878d845f71",
   "metadata": {},
   "source": [
    "## Avaliação do Modelo"
   ]
  },
  {
   "cell_type": "code",
   "execution_count": 36,
   "id": "ca632b0a-c37a-48e5-b0f6-12e45f004432",
   "metadata": {},
   "outputs": [
    {
     "name": "stdout",
     "output_type": "stream",
     "text": [
      "\u001b[1m1/1\u001b[0m \u001b[32m━━━━━━━━━━━━━━━━━━━━\u001b[0m\u001b[37m\u001b[0m \u001b[1m0s\u001b[0m 25ms/step - loss: 163.9450 - mae: 10.5536\n"
     ]
    }
   ],
   "source": [
    "# Avaliar o modelo no conjunto de teste\n",
    "teste_loss, teste_mae = modelo_dsa.evaluate(X_teste_scaled, y_teste)"
   ]
  },
  {
   "cell_type": "code",
   "execution_count": 37,
   "id": "b8c4a829-6bcb-486b-a7da-6d867de0d9b0",
   "metadata": {},
   "outputs": [
    {
     "name": "stdout",
     "output_type": "stream",
     "text": [
      "Teste Loss: 163.94497680664062\n",
      "Teste MAE: 10.553627014160156\n"
     ]
    }
   ],
   "source": [
    "print(f'Teste Loss: {teste_loss}')\n",
    "print(f'Teste MAE: {teste_mae}')"
   ]
  },
  {
   "cell_type": "code",
   "execution_count": null,
   "id": "dd25d864-db9d-4867-abe2-46dfc3fabdb5",
   "metadata": {},
   "outputs": [],
   "source": []
  }
 ],
 "metadata": {
  "kernelspec": {
   "display_name": "Python 3 (ipykernel)",
   "language": "python",
   "name": "python3"
  },
  "language_info": {
   "codemirror_mode": {
    "name": "ipython",
    "version": 3
   },
   "file_extension": ".py",
   "mimetype": "text/x-python",
   "name": "python",
   "nbconvert_exporter": "python",
   "pygments_lexer": "ipython3",
   "version": "3.12.7"
  }
 },
 "nbformat": 4,
 "nbformat_minor": 5
}
